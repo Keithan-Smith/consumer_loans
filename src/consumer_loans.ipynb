{
 "cells": [
  {
   "cell_type": "markdown",
   "metadata": {
    "id": "KTBxrTjcUvIk"
   },
   "source": [
    "# Outline \n",
    "\n",
    "- [Exploring the dataset](#Exploring-the-dataset)\n",
    "  - [Loading the dataset](#Loading-the-dataset)\n",
    "  - [Adding a new categorical feature](#Adding-a-new-categorical-feature)\n",
    "- [Visualization](#Visualization)\n",
    "  - [Count plot for a categorical variable](#Count-plot-for-a-categorical-variable)\n",
    "  - [Numerical variable distribution](#Numerical-variable-distribution)\n",
    "  - [Boxplots](#Boxplots)\n",
    "- [Preprocessing the data](#Preprocessing-the-data)\n",
    "  - [Preprocessing categorical variables](#Preprocessing-categorical-variables)\n"
   ]
  },
  {
   "cell_type": "markdown",
   "metadata": {
    "id": "RZzVq1HfynvM"
   },
   "source": [
    "### Loading the dataset"
   ]
  },
  {
   "cell_type": "code",
   "execution_count": 4,
   "metadata": {
    "id": "nvuOqwMk-sl-"
   },
   "outputs": [],
   "source": [
    "import pandas as pd\n",
    "import numpy as np\n",
    "import seaborn as sns\n",
    "import matplotlib.pyplot as plt\n",
    "import sklearn as skl \n",
    "plt.style.use(\"dark_background\")"
   ]
  },
  {
   "cell_type": "code",
   "execution_count": 5,
   "metadata": {
    "id": "x_Sb_nNVAbWo"
   },
   "outputs": [],
   "source": [
    "df = pd.read_csv(\"../data/credit_dataset.csv\", index_col=0)"
   ]
  },
  {
   "cell_type": "code",
   "execution_count": 6,
   "metadata": {
    "id": "9ETXFrXdAdN2"
   },
   "outputs": [
    {
     "data": {
      "text/html": [
       "<div>\n",
       "<style scoped>\n",
       "    .dataframe tbody tr th:only-of-type {\n",
       "        vertical-align: middle;\n",
       "    }\n",
       "\n",
       "    .dataframe tbody tr th {\n",
       "        vertical-align: top;\n",
       "    }\n",
       "\n",
       "    .dataframe thead th {\n",
       "        text-align: right;\n",
       "    }\n",
       "</style>\n",
       "<table border=\"1\" class=\"dataframe\">\n",
       "  <thead>\n",
       "    <tr style=\"text-align: right;\">\n",
       "      <th></th>\n",
       "      <th>person_age</th>\n",
       "      <th>person_income</th>\n",
       "      <th>person_home_ownership</th>\n",
       "      <th>person_emp_length</th>\n",
       "      <th>loan_intent</th>\n",
       "      <th>loan_grade</th>\n",
       "      <th>loan_amnt</th>\n",
       "      <th>loan_int_rate</th>\n",
       "      <th>loan_status</th>\n",
       "      <th>loan_percent_income</th>\n",
       "      <th>cb_person_default_on_file</th>\n",
       "      <th>cb_person_cred_hist_length</th>\n",
       "    </tr>\n",
       "  </thead>\n",
       "  <tbody>\n",
       "    <tr>\n",
       "      <th>0</th>\n",
       "      <td>22</td>\n",
       "      <td>29124</td>\n",
       "      <td>MORTGAGE</td>\n",
       "      <td>0.0</td>\n",
       "      <td>MEDICAL</td>\n",
       "      <td>E</td>\n",
       "      <td>8875</td>\n",
       "      <td>15.68</td>\n",
       "      <td>1</td>\n",
       "      <td>0.30</td>\n",
       "      <td>Y</td>\n",
       "      <td>3</td>\n",
       "    </tr>\n",
       "    <tr>\n",
       "      <th>1</th>\n",
       "      <td>23</td>\n",
       "      <td>48000</td>\n",
       "      <td>RENT</td>\n",
       "      <td>5.0</td>\n",
       "      <td>DEBTCONSOLIDATION</td>\n",
       "      <td>B</td>\n",
       "      <td>5000</td>\n",
       "      <td>9.25</td>\n",
       "      <td>0</td>\n",
       "      <td>0.10</td>\n",
       "      <td>N</td>\n",
       "      <td>2</td>\n",
       "    </tr>\n",
       "    <tr>\n",
       "      <th>2</th>\n",
       "      <td>30</td>\n",
       "      <td>70000</td>\n",
       "      <td>RENT</td>\n",
       "      <td>6.0</td>\n",
       "      <td>PERSONAL</td>\n",
       "      <td>B</td>\n",
       "      <td>5000</td>\n",
       "      <td>11.71</td>\n",
       "      <td>0</td>\n",
       "      <td>0.07</td>\n",
       "      <td>N</td>\n",
       "      <td>5</td>\n",
       "    </tr>\n",
       "    <tr>\n",
       "      <th>3</th>\n",
       "      <td>24</td>\n",
       "      <td>54600</td>\n",
       "      <td>RENT</td>\n",
       "      <td>2.0</td>\n",
       "      <td>EDUCATION</td>\n",
       "      <td>C</td>\n",
       "      <td>7200</td>\n",
       "      <td>12.53</td>\n",
       "      <td>0</td>\n",
       "      <td>0.13</td>\n",
       "      <td>N</td>\n",
       "      <td>2</td>\n",
       "    </tr>\n",
       "    <tr>\n",
       "      <th>4</th>\n",
       "      <td>22</td>\n",
       "      <td>49500</td>\n",
       "      <td>RENT</td>\n",
       "      <td>7.0</td>\n",
       "      <td>MEDICAL</td>\n",
       "      <td>C</td>\n",
       "      <td>2500</td>\n",
       "      <td>14.27</td>\n",
       "      <td>0</td>\n",
       "      <td>0.05</td>\n",
       "      <td>Y</td>\n",
       "      <td>2</td>\n",
       "    </tr>\n",
       "  </tbody>\n",
       "</table>\n",
       "</div>"
      ],
      "text/plain": [
       "   person_age  person_income person_home_ownership  person_emp_length  \\\n",
       "0          22          29124              MORTGAGE                0.0   \n",
       "1          23          48000                  RENT                5.0   \n",
       "2          30          70000                  RENT                6.0   \n",
       "3          24          54600                  RENT                2.0   \n",
       "4          22          49500                  RENT                7.0   \n",
       "\n",
       "         loan_intent loan_grade  loan_amnt  loan_int_rate  loan_status  \\\n",
       "0            MEDICAL          E       8875          15.68            1   \n",
       "1  DEBTCONSOLIDATION          B       5000           9.25            0   \n",
       "2           PERSONAL          B       5000          11.71            0   \n",
       "3          EDUCATION          C       7200          12.53            0   \n",
       "4            MEDICAL          C       2500          14.27            0   \n",
       "\n",
       "   loan_percent_income cb_person_default_on_file  cb_person_cred_hist_length  \n",
       "0                 0.30                         Y                           3  \n",
       "1                 0.10                         N                           2  \n",
       "2                 0.07                         N                           5  \n",
       "3                 0.13                         N                           2  \n",
       "4                 0.05                         Y                           2  "
      ]
     },
     "execution_count": 6,
     "metadata": {},
     "output_type": "execute_result"
    }
   ],
   "source": [
    "df = df.sample(frac=1).reset_index(drop=True) # randomly shuffle rows of the df\n",
    "df.head(5)"
   ]
  },
  {
   "cell_type": "code",
   "execution_count": 7,
   "metadata": {
    "colab": {
     "base_uri": "https://localhost:8080/"
    },
    "id": "tAgKRtqIAvce",
    "outputId": "682cd8a9-5f76-45ce-f828-df5dfebfa661"
   },
   "outputs": [
    {
     "name": "stdout",
     "output_type": "stream",
     "text": [
      "<class 'pandas.core.frame.DataFrame'>\n",
      "RangeIndex: 32581 entries, 0 to 32580\n",
      "Data columns (total 12 columns):\n",
      " #   Column                      Non-Null Count  Dtype  \n",
      "---  ------                      --------------  -----  \n",
      " 0   person_age                  32581 non-null  int64  \n",
      " 1   person_income               32581 non-null  int64  \n",
      " 2   person_home_ownership       32581 non-null  object \n",
      " 3   person_emp_length           32581 non-null  float64\n",
      " 4   loan_intent                 32581 non-null  object \n",
      " 5   loan_grade                  32581 non-null  object \n",
      " 6   loan_amnt                   32581 non-null  int64  \n",
      " 7   loan_int_rate               32581 non-null  float64\n",
      " 8   loan_status                 32581 non-null  int64  \n",
      " 9   loan_percent_income         32581 non-null  float64\n",
      " 10  cb_person_default_on_file   32581 non-null  object \n",
      " 11  cb_person_cred_hist_length  32581 non-null  int64  \n",
      "dtypes: float64(3), int64(5), object(4)\n",
      "memory usage: 3.0+ MB\n"
     ]
    }
   ],
   "source": [
    "# Check for amount of rows and for any missing values \n",
    "df.info()"
   ]
  },
  {
   "cell_type": "code",
   "execution_count": 8,
   "metadata": {
    "id": "qi9X_z6RBq51"
   },
   "outputs": [],
   "source": [
    "#create quickaccess list with categorical variables labels\n",
    "catvars = list(df.select_dtypes(include = 'object').columns)\n",
    "#create quickaccess list with numerical variables labels\n",
    "numvars = list(df.select_dtypes(exclude = 'object').columns)\n",
    "numvars.remove(\"loan_status\")"
   ]
  },
  {
   "cell_type": "code",
   "execution_count": 9,
   "metadata": {
    "id": "YKdkq6YKAxwN"
   },
   "outputs": [],
   "source": [
    "# Threshold, splitting 70% train, 30% testing\n",
    "threshold = 0.7*len(df)\n",
    "\n",
    "# Splitting the dataset\n",
    "df_train = df.loc[:threshold].reset_index(drop=True)\n",
    "df_test = df.loc[threshold:].reset_index(drop=True)"
   ]
  },
  {
   "cell_type": "code",
   "execution_count": 10,
   "metadata": {
    "colab": {
     "base_uri": "https://localhost:8080/"
    },
    "id": "5E0A3Ub7BjpL",
    "outputId": "84afd2b0-e21f-4c85-b4b2-0b3ec0d4f793"
   },
   "outputs": [
    {
     "name": "stdout",
     "output_type": "stream",
     "text": [
      "We have 22807 training samples\n",
      "We have 9774 testing samples\n"
     ]
    }
   ],
   "source": [
    "print(\"We have {} training samples\".format(len(df_train)))\n",
    "print(\"We have {} testing samples\".format(len(df_test)))"
   ]
  },
  {
   "cell_type": "markdown",
   "metadata": {
    "id": "5g3WyCkt5qCK"
   },
   "source": [
    "### 1.2 Adding a new categorical feature"
   ]
  },
  {
   "cell_type": "code",
   "execution_count": 11,
   "metadata": {
    "colab": {
     "base_uri": "https://localhost:8080/",
     "height": 424
    },
    "id": "h7yqtudHCKEN",
    "outputId": "96c2b711-85b8-4e26-b90a-472470d6cba6"
   },
   "outputs": [
    {
     "data": {
      "text/html": [
       "<div>\n",
       "<style scoped>\n",
       "    .dataframe tbody tr th:only-of-type {\n",
       "        vertical-align: middle;\n",
       "    }\n",
       "\n",
       "    .dataframe tbody tr th {\n",
       "        vertical-align: top;\n",
       "    }\n",
       "\n",
       "    .dataframe thead th {\n",
       "        text-align: right;\n",
       "    }\n",
       "</style>\n",
       "<table border=\"1\" class=\"dataframe\">\n",
       "  <thead>\n",
       "    <tr style=\"text-align: right;\">\n",
       "      <th></th>\n",
       "      <th>person_age</th>\n",
       "      <th>person_income</th>\n",
       "      <th>person_emp_length</th>\n",
       "      <th>loan_amnt</th>\n",
       "      <th>loan_int_rate</th>\n",
       "      <th>loan_percent_income</th>\n",
       "      <th>cb_person_cred_hist_length</th>\n",
       "    </tr>\n",
       "  </thead>\n",
       "  <tbody>\n",
       "    <tr>\n",
       "      <th>count</th>\n",
       "      <td>22807.000000</td>\n",
       "      <td>2.280700e+04</td>\n",
       "      <td>22807.000000</td>\n",
       "      <td>22807.000000</td>\n",
       "      <td>22807.000000</td>\n",
       "      <td>22807.000000</td>\n",
       "      <td>22807.000000</td>\n",
       "    </tr>\n",
       "    <tr>\n",
       "      <th>mean</th>\n",
       "      <td>27.722804</td>\n",
       "      <td>6.588239e+04</td>\n",
       "      <td>4.776121</td>\n",
       "      <td>9575.198404</td>\n",
       "      <td>11.009899</td>\n",
       "      <td>0.170647</td>\n",
       "      <td>5.805411</td>\n",
       "    </tr>\n",
       "    <tr>\n",
       "      <th>std</th>\n",
       "      <td>6.316611</td>\n",
       "      <td>6.545265e+04</td>\n",
       "      <td>4.147287</td>\n",
       "      <td>6317.638722</td>\n",
       "      <td>3.081069</td>\n",
       "      <td>0.107188</td>\n",
       "      <td>4.040260</td>\n",
       "    </tr>\n",
       "    <tr>\n",
       "      <th>min</th>\n",
       "      <td>20.000000</td>\n",
       "      <td>4.000000e+03</td>\n",
       "      <td>0.000000</td>\n",
       "      <td>500.000000</td>\n",
       "      <td>5.420000</td>\n",
       "      <td>0.000000</td>\n",
       "      <td>2.000000</td>\n",
       "    </tr>\n",
       "    <tr>\n",
       "      <th>25%</th>\n",
       "      <td>23.000000</td>\n",
       "      <td>3.840000e+04</td>\n",
       "      <td>2.000000</td>\n",
       "      <td>5000.000000</td>\n",
       "      <td>8.490000</td>\n",
       "      <td>0.090000</td>\n",
       "      <td>3.000000</td>\n",
       "    </tr>\n",
       "    <tr>\n",
       "      <th>50%</th>\n",
       "      <td>26.000000</td>\n",
       "      <td>5.500000e+04</td>\n",
       "      <td>4.000000</td>\n",
       "      <td>8000.000000</td>\n",
       "      <td>10.990000</td>\n",
       "      <td>0.150000</td>\n",
       "      <td>4.000000</td>\n",
       "    </tr>\n",
       "    <tr>\n",
       "      <th>75%</th>\n",
       "      <td>30.000000</td>\n",
       "      <td>7.885100e+04</td>\n",
       "      <td>7.000000</td>\n",
       "      <td>12000.000000</td>\n",
       "      <td>13.110000</td>\n",
       "      <td>0.230000</td>\n",
       "      <td>8.000000</td>\n",
       "    </tr>\n",
       "    <tr>\n",
       "      <th>max</th>\n",
       "      <td>144.000000</td>\n",
       "      <td>6.000000e+06</td>\n",
       "      <td>123.000000</td>\n",
       "      <td>35000.000000</td>\n",
       "      <td>22.110000</td>\n",
       "      <td>0.830000</td>\n",
       "      <td>30.000000</td>\n",
       "    </tr>\n",
       "  </tbody>\n",
       "</table>\n",
       "</div>"
      ],
      "text/plain": [
       "         person_age  person_income  person_emp_length     loan_amnt  \\\n",
       "count  22807.000000   2.280700e+04       22807.000000  22807.000000   \n",
       "mean      27.722804   6.588239e+04           4.776121   9575.198404   \n",
       "std        6.316611   6.545265e+04           4.147287   6317.638722   \n",
       "min       20.000000   4.000000e+03           0.000000    500.000000   \n",
       "25%       23.000000   3.840000e+04           2.000000   5000.000000   \n",
       "50%       26.000000   5.500000e+04           4.000000   8000.000000   \n",
       "75%       30.000000   7.885100e+04           7.000000  12000.000000   \n",
       "max      144.000000   6.000000e+06         123.000000  35000.000000   \n",
       "\n",
       "       loan_int_rate  loan_percent_income  cb_person_cred_hist_length  \n",
       "count   22807.000000         22807.000000                22807.000000  \n",
       "mean       11.009899             0.170647                    5.805411  \n",
       "std         3.081069             0.107188                    4.040260  \n",
       "min         5.420000             0.000000                    2.000000  \n",
       "25%         8.490000             0.090000                    3.000000  \n",
       "50%        10.990000             0.150000                    4.000000  \n",
       "75%        13.110000             0.230000                    8.000000  \n",
       "max        22.110000             0.830000                   30.000000  "
      ]
     },
     "execution_count": 11,
     "metadata": {},
     "output_type": "execute_result"
    }
   ],
   "source": [
    "# Describe numerical features of the training set\n",
    "df_train[numvars]\n",
    "df_train[numvars].describe()"
   ]
  },
  {
   "cell_type": "markdown",
   "metadata": {
    "id": "YqOwL6flKF1N"
   },
   "source": [
    "---\n",
    "Create a new categorical feature named `category_income` assigning a category 'A', 'B', 'C' and 'D' according to the feature `person_income` as follows:\n",
    "  * If `person_income` is in [0, 39000], then `category_income = 'D'`.\n",
    "  * If `person_income` is in [39000, 55000], then `category_income = 'C'`.\n",
    "  * If `person_income` is in [55000, 79000], then `category_income = 'B'`.\n",
    "  * If `person_income` is in [79000, +$\\infty$], then `category_income = 'A'`.\n",
    "---"
   ]
  },
  {
   "cell_type": "code",
   "execution_count": 12,
   "metadata": {
    "colab": {
     "base_uri": "https://localhost:8080/"
    },
    "id": "2ruJXcIkCRXt",
    "outputId": "9d3f2ec7-3d25-4bfd-bdb0-ad8fb99efb3c"
   },
   "outputs": [
    {
     "data": {
      "text/plain": [
       "count    2.280700e+04\n",
       "mean     6.588239e+04\n",
       "std      6.545265e+04\n",
       "min      4.000000e+03\n",
       "25%      3.840000e+04\n",
       "50%      5.500000e+04\n",
       "75%      7.885100e+04\n",
       "max      6.000000e+06\n",
       "Name: person_income, dtype: float64"
      ]
     },
     "execution_count": 12,
     "metadata": {},
     "output_type": "execute_result"
    }
   ],
   "source": [
    "df_train[\"person_income\"].describe()"
   ]
  },
  {
   "cell_type": "code",
   "execution_count": 13,
   "metadata": {
    "id": "aD89OAEECb8t"
   },
   "outputs": [],
   "source": [
    "# Income intervals\n",
    "intervals = (0, 39000, 55000, 79000, 6000000)\n",
    "# Categories\n",
    "categories = [\"D\", \"C\", \"B\", \"A\"]\n",
    "# Create the new feature\n",
    "df_train[\"category_income\"] = pd.cut(df_train.person_income, intervals, labels=categories)\n",
    "df_test[\"category_income\"] = pd.cut(df_test.person_income, intervals, labels=categories)\n",
    "# Add the new category `category_income` to the list of categorical variables\n",
    "catvars.append(\"category_income\")"
   ]
  },
  {
   "cell_type": "markdown",
   "metadata": {
    "id": "5o1pvnyjEBF3"
   },
   "source": [
    "# 2. Visualization"
   ]
  },
  {
   "cell_type": "code",
   "execution_count": 14,
   "metadata": {
    "colab": {
     "base_uri": "https://localhost:8080/"
    },
    "id": "23oo_z34SL1c",
    "outputId": "7c26a479-6716-4b82-d0e9-b8ad82e8cd4d"
   },
   "outputs": [
    {
     "data": {
      "text/plain": [
       "array(['MORTGAGE', 'RENT', 'OWN', 'OTHER'], dtype=object)"
      ]
     },
     "execution_count": 14,
     "metadata": {},
     "output_type": "execute_result"
    }
   ],
   "source": [
    "# The different values of person_home_ownsership\n",
    "df_train[\"person_home_ownership\"].unique()"
   ]
  },
  {
   "cell_type": "code",
   "execution_count": 15,
   "metadata": {
    "colab": {
     "base_uri": "https://localhost:8080/",
     "height": 459
    },
    "id": "mjwv_Tw39FNT",
    "outputId": "72f5356d-8301-4eef-9d25-021f14e17049"
   },
   "outputs": [
    {
     "data": {
      "image/png": "[encoded data removed]",
      "text/plain": [
       "<Figure size 1000x700 with 1 Axes>"
      ]
     },
     "metadata": {},
     "output_type": "display_data"
    }
   ],
   "source": [
    "fig = plt.figure(figsize=(10, 7))\n",
    "g = sns.countplot(x=\"person_home_ownership\", data=df_train, palette=\"hls\", hue=\"loan_status\")\n",
    "g.set_title(\"Count Plot for person_home_ownership represented in the training data\")\n",
    "plt.show()"
   ]
  },
  {
   "cell_type": "markdown",
   "metadata": {
    "id": "G-ky4dPucJUH"
   },
   "source": [
    "### 2.2 Numerical variable distribution"
   ]
  },
  {
   "cell_type": "markdown",
   "metadata": {
    "id": "q9mt9f_ydrAC"
   },
   "source": [
    "Plot a univariate distribution of a numerical variable associated to the \"0\" and \"1\" targets. "
   ]
  },
  {
   "cell_type": "code",
   "execution_count": 16,
   "metadata": {
    "colab": {
     "base_uri": "https://localhost:8080/",
     "height": 587
    },
    "id": "BraoDr6GcaYD",
    "outputId": "d5ef14dc-0aa6-40fc-89b7-5c00ba6da9ae"
   },
   "outputs": [
    {
     "data": {
      "text/plain": [
       "<Figure size 1400x700 with 0 Axes>"
      ]
     },
     "metadata": {},
     "output_type": "display_data"
    },
    {
     "data": {
      "image/png": "[encoded data removed]",
      "text/plain": [
       "<Figure size 1490.49x700 with 1 Axes>"
      ]
     },
     "metadata": {},
     "output_type": "display_data"
    }
   ],
   "source": [
    "plt.figure(figsize=(14, 7))\n",
    "\n",
    "sns.displot(data=df_train, x=\"person_income\", hue=\"loan_status\", kind=\"kde\", \n",
    "            fill=True, common_norm=False, palette=[\"g\", \"r\"], height=7, aspect=2)\n",
    "\n",
    "plt.xlabel(\"Person Income\")\n",
    "plt.xlim(0, 200000)\n",
    "plt.ylabel(\"Frequency\")\n",
    "plt.title(\"Person Income Distribution According to Loan Status\")\n",
    "plt.show()"
   ]
  },
  {
   "cell_type": "markdown",
   "metadata": {
    "id": "TkPcVyHni9p4"
   },
   "source": [
    "---\n",
    "\n",
    "We can see that the distribution of `person_income` associated the target '0' (No default) is shifted to the right, in comparison with the one associated with the target '1' (default).\n",
    "\n",
    "---"
   ]
  },
  {
   "cell_type": "markdown",
   "metadata": {
    "id": "44-3sDdqWFdS"
   },
   "source": [
    "### 2.3 Boxplots "
   ]
  },
  {
   "cell_type": "markdown",
   "metadata": {
    "id": "8m0lMx2jKSF1"
   },
   "source": [
    "---\n",
    "\n",
    "The distribution of the numerical feature `loan_amnt` according to the new categorical variable `category_income` and the targets `loan_status`. \n",
    "\n",
    "---"
   ]
  },
  {
   "cell_type": "code",
   "execution_count": 17,
   "metadata": {
    "colab": {
     "base_uri": "https://localhost:8080/",
     "height": 459
    },
    "id": "rhEdDWrz9FLI",
    "outputId": "65c19585-d0b2-430f-b051-9765d3e7e997"
   },
   "outputs": [
    {
     "data": {
      "image/png": "[encoded data removed]",
      "text/plain": [
       "<Figure size 1400x700 with 1 Axes>"
      ]
     },
     "metadata": {},
     "output_type": "display_data"
    }
   ],
   "source": [
    "fig = plt.figure(figsize=(14, 7))\n",
    "g = sns.boxplot(x=\"category_income\", y=\"loan_amnt\", data=df_train, palette=\"hls\",hue=\"loan_status\")\n",
    "g.set_title(\"Loan Amount by Loan Intent\")\n",
    "plt.show()"
   ]
  },
  {
   "cell_type": "markdown",
   "metadata": {
    "id": "vDFtR_RjGCkY"
   },
   "source": [
    "# 3. Preprocessing the data"
   ]
  },
  {
   "cell_type": "markdown",
   "metadata": {
    "id": "v8HcghXHgkk3"
   },
   "source": [
    "### 3.1. Preprocessing categorical variables "
   ]
  },
  {
   "cell_type": "markdown",
   "metadata": {
    "id": "Q9Ow6MljoSSY"
   },
   "source": [
    "* Let's suppose we have a categorical variable X that can take K different values $\\{1, \\dots, K\\}$\n",
    "\n",
    "* **One hot encoding** a category consists in transforming the category into a vector $\\in \\mathbb{R}^K$ where we have 1 in the position of the category and zeros elswhere. \n",
    "\n",
    "* For instance, if $K=4$, the category \"3\" for one sample is one hot encoded into the vector $[0, 0, 1, 0]$\n",
    "\n",
    "\n",
    "* Therefore, we can turn a catogorical feature into K features. \n",
    "\n",
    "* As each sample is only mapped to one category, the K features are not independent (the K-th feature can be deduced from the K-1 first features). Therefore, we usually drop one of the columns."
   ]
  },
  {
   "cell_type": "markdown",
   "metadata": {
    "id": "UIuGW1ApureQ"
   },
   "source": [
    "The categories:"
   ]
  },
  {
   "cell_type": "code",
   "execution_count": 18,
   "metadata": {
    "colab": {
     "base_uri": "https://localhost:8080/"
    },
    "id": "e1c01eqBghnq",
    "outputId": "25183f06-688d-4b0f-96ce-2e5c2afc47cd"
   },
   "outputs": [
    {
     "data": {
      "text/plain": [
       "['person_home_ownership',\n",
       " 'loan_intent',\n",
       " 'loan_grade',\n",
       " 'cb_person_default_on_file',\n",
       " 'category_income']"
      ]
     },
     "execution_count": 18,
     "metadata": {},
     "output_type": "execute_result"
    }
   ],
   "source": [
    "catvars"
   ]
  },
  {
   "cell_type": "code",
   "execution_count": 19,
   "metadata": {
    "colab": {
     "base_uri": "https://localhost:8080/"
    },
    "id": "_n4EbeNUtVgA",
    "outputId": "5def6b8d-6072-433d-b095-b3e1f090e14e"
   },
   "outputs": [
    {
     "name": "stdout",
     "output_type": "stream",
     "text": [
      "Feature: person_home_ownership ... Categories: ['MORTGAGE' 'RENT' 'OWN' 'OTHER']\n",
      "Feature: loan_intent ... Categories: ['MEDICAL' 'DEBTCONSOLIDATION' 'PERSONAL' 'EDUCATION' 'HOMEIMPROVEMENT'\n",
      " 'VENTURE']\n",
      "Feature: loan_grade ... Categories: ['E' 'B' 'C' 'A' 'D' 'F' 'G']\n",
      "Feature: cb_person_default_on_file ... Categories: ['Y' 'N']\n",
      "Feature: category_income ... Categories: ['D', 'C', 'B', 'A']\n",
      "Categories (4, object): ['D' < 'C' < 'B' < 'A']\n"
     ]
    }
   ],
   "source": [
    "for categorical_variable in catvars:\n",
    "  print(f\"Feature: {categorical_variable} ... Categories: {df_train[categorical_variable].unique()}\")"
   ]
  },
  {
   "cell_type": "markdown",
   "metadata": {
    "id": "ijzgiaUButpB"
   },
   "source": [
    "The number of categories:"
   ]
  },
  {
   "cell_type": "code",
   "execution_count": 20,
   "metadata": {
    "colab": {
     "base_uri": "https://localhost:8080/"
    },
    "id": "hY5V4AcfuPdw",
    "outputId": "c89192b0-ace3-4c42-f7a8-7a3c2280b2b2"
   },
   "outputs": [
    {
     "data": {
      "text/plain": [
       "person_home_ownership        4\n",
       "loan_intent                  6\n",
       "loan_grade                   7\n",
       "cb_person_default_on_file    2\n",
       "category_income              4\n",
       "dtype: int64"
      ]
     },
     "execution_count": 20,
     "metadata": {},
     "output_type": "execute_result"
    }
   ],
   "source": [
    "# For each categorical variable, the number of possible categories\n",
    "df_train[catvars].nunique()"
   ]
  },
  {
   "cell_type": "code",
   "execution_count": 21,
   "metadata": {
    "colab": {
     "base_uri": "https://localhost:8080/"
    },
    "id": "RZhYEX2vz9lZ",
    "outputId": "f74607f9-970f-4055-d620-942ee996decd"
   },
   "outputs": [
    {
     "data": {
      "text/plain": [
       "(22807, 13)"
      ]
     },
     "execution_count": 21,
     "metadata": {},
     "output_type": "execute_result"
    }
   ],
   "source": [
    "# 1 for target (loan_status)\n",
    "# 5 categorical variables\n",
    "# 7 numerical variables \n",
    "df_train.shape"
   ]
  },
  {
   "cell_type": "code",
   "execution_count": 23,
   "metadata": {
    "id": "1ToPF7IV9E-w"
   },
   "outputs": [
    {
     "name": "stderr",
     "output_type": "stream",
     "text": [
      "c:\\Users\\K$\\source\\repos\\consumer_loans\\.venv\\Lib\\site-packages\\sklearn\\preprocessing\\_encoders.py:975: FutureWarning: `sparse` was renamed to `sparse_output` in version 1.2 and will be removed in 1.4. `sparse_output` is ignored unless you leave `sparse` to its default value.\n",
      "  warnings.warn(\n"
     ]
    }
   ],
   "source": [
    "from sklearn.preprocessing import OneHotEncoder\n",
    "\n",
    "# Initialize the OneHotEncoder\n",
    "encoder = OneHotEncoder(sparse=False, drop='first')\n",
    "\n",
    "# Fit and transform the categorical columns\n",
    "encoded_data = encoder.fit_transform(df_train[catvars])\n",
    "\n",
    "# Create a DataFrame with the one-hot encoded data\n",
    "encoded_df = pd.DataFrame(encoded_data, columns=encoder.get_feature_names_out(catvars))\n",
    "\n",
    "# Concatenate the one-hot encoded DataFrame with the original DataFrame\n",
    "df_train = pd.concat([df_train.drop(columns=catvars), encoded_df], axis=1)\n"
   ]
  }
 ],
 "metadata": {
  "colab": {
   "collapsed_sections": [
    "RZzVq1HfynvM",
    "5g3WyCkt5qCK",
    "k5HEklJbE1sX",
    "G-ky4dPucJUH",
    "44-3sDdqWFdS",
    "vDFtR_RjGCkY",
    "v8HcghXHgkk3",
    "MRnlqR7f0_xM",
    "QgibaIZ2Z3hS",
    "cnZyF17Fqf-1",
    "yE0io5hzEIZg",
    "5BKVilJLgUDi",
    "b-zNPArGT0cN",
    "aOhuR142XmPA",
    "U67-gm73Tonn"
   ],
   "name": "Solution_Programming_Session.ipynb",
   "provenance": []
  },
  "kernelspec": {
   "display_name": "Python 3 (ipykernel)",
   "language": "python",
   "name": "python3"
  },
  "language_info": {
   "codemirror_mode": {
    "name": "ipython",
    "version": 3
   },
   "file_extension": ".py",
   "mimetype": "text/x-python",
   "name": "python",
   "nbconvert_exporter": "python",
   "pygments_lexer": "ipython3",
   "version": "3.11.4"
  }
 },
 "nbformat": 4,
 "nbformat_minor": 1
}
