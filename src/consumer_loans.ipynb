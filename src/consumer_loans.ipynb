{
 "cells": [
  {
   "cell_type": "markdown",
   "metadata": {
    "id": "KTBxrTjcUvIk"
   },
   "source": [
    "# Outline \n",
    "\n",
    "- [Exploring the dataset](#Exploring-the-dataset)\n",
    "  - [Loading the dataset](#Loading-the-dataset)\n",
    "  - [Adding a new categorical feature](#Adding-a-new-categorical-feature)\n",
    "- [Visualization](#Visualization)\n",
    "  - [Count plot for a categorical variable](#Count-plot-for-a-categorical-variable)\n",
    "  - [Numerical variable distribution](#Numerical-variable-distribution)\n",
    "  - [Boxplots](#Boxplots)\n",
    "- [Preprocessing the data](#Preprocessing-the-data)\n",
    "  - [Preprocessing categorical variables](#Preprocessing-categorical-variables)\n",
    "  - [Preprocessing numerical variables](#Preprocessing-numerical-variables)\n",
    "- [Finetuning a Supervised Model](#Finetuning-a-Supervised-Model)\n",
    "  - [Evaluation Metrics](#Evaluation-Metrics)\n",
    "  - [Fine Tuning Random Forest](#Fine-Tuning-Random-Forest)\n",
    "- [Adjusting the threshold](#Adjusting-the-threshold)\n",
    "  - [A small review](#A-small-review)\n",
    "  - [Adjusting the probability threshold](#Adjusting-the-probability-threshold)"
   ]
  },
  {
   "cell_type": "markdown",
   "metadata": {
    "id": "RZzVq1HfynvM"
   },
   "source": [
    "### Loading the dataset"
   ]
  },
  {
   "cell_type": "code",
   "execution_count": 2,
   "metadata": {
    "id": "nvuOqwMk-sl-"
   },
   "outputs": [],
   "source": [
    "import pandas as pd\n",
    "import numpy as np\n",
    "import seaborn as sns\n",
    "import matplotlib.pyplot as plt\n",
    "import sklearn as skl \n",
    "plt.style.use(\"dark_background\")"
   ]
  },
  {
   "cell_type": "code",
   "execution_count": 7,
   "metadata": {
    "id": "x_Sb_nNVAbWo"
   },
   "outputs": [],
   "source": [
    "df = pd.read_csv(\"../data/credit_dataset.csv\", index_col=0)"
   ]
  },
  {
   "cell_type": "code",
   "execution_count": 9,
   "metadata": {
    "id": "9ETXFrXdAdN2"
   },
   "outputs": [
    {
     "data": {
      "text/html": [
       "<div>\n",
       "<style scoped>\n",
       "    .dataframe tbody tr th:only-of-type {\n",
       "        vertical-align: middle;\n",
       "    }\n",
       "\n",
       "    .dataframe tbody tr th {\n",
       "        vertical-align: top;\n",
       "    }\n",
       "\n",
       "    .dataframe thead th {\n",
       "        text-align: right;\n",
       "    }\n",
       "</style>\n",
       "<table border=\"1\" class=\"dataframe\">\n",
       "  <thead>\n",
       "    <tr style=\"text-align: right;\">\n",
       "      <th></th>\n",
       "      <th>person_age</th>\n",
       "      <th>person_income</th>\n",
       "      <th>person_home_ownership</th>\n",
       "      <th>person_emp_length</th>\n",
       "      <th>loan_intent</th>\n",
       "      <th>loan_grade</th>\n",
       "      <th>loan_amnt</th>\n",
       "      <th>loan_int_rate</th>\n",
       "      <th>loan_status</th>\n",
       "      <th>loan_percent_income</th>\n",
       "      <th>cb_person_default_on_file</th>\n",
       "      <th>cb_person_cred_hist_length</th>\n",
       "    </tr>\n",
       "  </thead>\n",
       "  <tbody>\n",
       "    <tr>\n",
       "      <th>0</th>\n",
       "      <td>39</td>\n",
       "      <td>170000</td>\n",
       "      <td>MORTGAGE</td>\n",
       "      <td>16.0</td>\n",
       "      <td>MEDICAL</td>\n",
       "      <td>A</td>\n",
       "      <td>32000</td>\n",
       "      <td>7.49</td>\n",
       "      <td>0</td>\n",
       "      <td>0.19</td>\n",
       "      <td>N</td>\n",
       "      <td>13</td>\n",
       "    </tr>\n",
       "    <tr>\n",
       "      <th>1</th>\n",
       "      <td>23</td>\n",
       "      <td>55000</td>\n",
       "      <td>MORTGAGE</td>\n",
       "      <td>7.0</td>\n",
       "      <td>VENTURE</td>\n",
       "      <td>A</td>\n",
       "      <td>5200</td>\n",
       "      <td>8.90</td>\n",
       "      <td>0</td>\n",
       "      <td>0.09</td>\n",
       "      <td>N</td>\n",
       "      <td>4</td>\n",
       "    </tr>\n",
       "    <tr>\n",
       "      <th>2</th>\n",
       "      <td>22</td>\n",
       "      <td>12600</td>\n",
       "      <td>RENT</td>\n",
       "      <td>2.0</td>\n",
       "      <td>PERSONAL</td>\n",
       "      <td>B</td>\n",
       "      <td>4000</td>\n",
       "      <td>10.37</td>\n",
       "      <td>1</td>\n",
       "      <td>0.32</td>\n",
       "      <td>N</td>\n",
       "      <td>4</td>\n",
       "    </tr>\n",
       "    <tr>\n",
       "      <th>3</th>\n",
       "      <td>33</td>\n",
       "      <td>30000</td>\n",
       "      <td>RENT</td>\n",
       "      <td>0.0</td>\n",
       "      <td>PERSONAL</td>\n",
       "      <td>A</td>\n",
       "      <td>6500</td>\n",
       "      <td>8.49</td>\n",
       "      <td>0</td>\n",
       "      <td>0.22</td>\n",
       "      <td>N</td>\n",
       "      <td>5</td>\n",
       "    </tr>\n",
       "    <tr>\n",
       "      <th>4</th>\n",
       "      <td>24</td>\n",
       "      <td>85000</td>\n",
       "      <td>MORTGAGE</td>\n",
       "      <td>4.0</td>\n",
       "      <td>DEBTCONSOLIDATION</td>\n",
       "      <td>B</td>\n",
       "      <td>15000</td>\n",
       "      <td>9.88</td>\n",
       "      <td>0</td>\n",
       "      <td>0.18</td>\n",
       "      <td>N</td>\n",
       "      <td>3</td>\n",
       "    </tr>\n",
       "  </tbody>\n",
       "</table>\n",
       "</div>"
      ],
      "text/plain": [
       "   person_age  person_income person_home_ownership  person_emp_length  \\\n",
       "0          39         170000              MORTGAGE               16.0   \n",
       "1          23          55000              MORTGAGE                7.0   \n",
       "2          22          12600                  RENT                2.0   \n",
       "3          33          30000                  RENT                0.0   \n",
       "4          24          85000              MORTGAGE                4.0   \n",
       "\n",
       "         loan_intent loan_grade  loan_amnt  loan_int_rate  loan_status  \\\n",
       "0            MEDICAL          A      32000           7.49            0   \n",
       "1            VENTURE          A       5200           8.90            0   \n",
       "2           PERSONAL          B       4000          10.37            1   \n",
       "3           PERSONAL          A       6500           8.49            0   \n",
       "4  DEBTCONSOLIDATION          B      15000           9.88            0   \n",
       "\n",
       "   loan_percent_income cb_person_default_on_file  cb_person_cred_hist_length  \n",
       "0                 0.19                         N                          13  \n",
       "1                 0.09                         N                           4  \n",
       "2                 0.32                         N                           4  \n",
       "3                 0.22                         N                           5  \n",
       "4                 0.18                         N                           3  "
      ]
     },
     "execution_count": 9,
     "metadata": {},
     "output_type": "execute_result"
    }
   ],
   "source": [
    "df = df.sample(frac=1).reset_index(drop=True) # randomly shuffle rows of the df\n",
    "df.head(5)"
   ]
  },
  {
   "cell_type": "code",
   "execution_count": 10,
   "metadata": {
    "colab": {
     "base_uri": "https://localhost:8080/"
    },
    "id": "tAgKRtqIAvce",
    "outputId": "682cd8a9-5f76-45ce-f828-df5dfebfa661"
   },
   "outputs": [
    {
     "name": "stdout",
     "output_type": "stream",
     "text": [
      "<class 'pandas.core.frame.DataFrame'>\n",
      "RangeIndex: 32581 entries, 0 to 32580\n",
      "Data columns (total 12 columns):\n",
      " #   Column                      Non-Null Count  Dtype  \n",
      "---  ------                      --------------  -----  \n",
      " 0   person_age                  32581 non-null  int64  \n",
      " 1   person_income               32581 non-null  int64  \n",
      " 2   person_home_ownership       32581 non-null  object \n",
      " 3   person_emp_length           32581 non-null  float64\n",
      " 4   loan_intent                 32581 non-null  object \n",
      " 5   loan_grade                  32581 non-null  object \n",
      " 6   loan_amnt                   32581 non-null  int64  \n",
      " 7   loan_int_rate               32581 non-null  float64\n",
      " 8   loan_status                 32581 non-null  int64  \n",
      " 9   loan_percent_income         32581 non-null  float64\n",
      " 10  cb_person_default_on_file   32581 non-null  object \n",
      " 11  cb_person_cred_hist_length  32581 non-null  int64  \n",
      "dtypes: float64(3), int64(5), object(4)\n",
      "memory usage: 3.0+ MB\n"
     ]
    }
   ],
   "source": [
    "# Check for amount of rows and for any missing values \n",
    "df.info()"
   ]
  },
  {
   "cell_type": "code",
   "execution_count": 12,
   "metadata": {
    "id": "qi9X_z6RBq51"
   },
   "outputs": [],
   "source": [
    "#create quickaccess list with categorical variables labels\n",
    "catvars = list(df.select_dtypes(include = 'object').columns)\n",
    "#create quickaccess list with numerical variables labels\n",
    "numvars = list(df.select_dtypes(exclude = 'object').columns)\n",
    "numvars.remove(\"loan_status\")"
   ]
  },
  {
   "cell_type": "code",
   "execution_count": 13,
   "metadata": {
    "id": "YKdkq6YKAxwN"
   },
   "outputs": [],
   "source": [
    "# Threshold, splitting 70% train, 30% testing\n",
    "threshold = 0.7*len(df)\n",
    "\n",
    "# Splitting the dataset\n",
    "df_train = df.loc[:threshold].reset_index(drop=True)\n",
    "df_test = df.loc[threshold:].reset_index(drop=True)"
   ]
  },
  {
   "cell_type": "code",
   "execution_count": 14,
   "metadata": {
    "colab": {
     "base_uri": "https://localhost:8080/"
    },
    "id": "5E0A3Ub7BjpL",
    "outputId": "84afd2b0-e21f-4c85-b4b2-0b3ec0d4f793"
   },
   "outputs": [
    {
     "name": "stdout",
     "output_type": "stream",
     "text": [
      "We have 22807 training samples\n",
      "We have 9774 testing samples\n"
     ]
    }
   ],
   "source": [
    "print(\"We have {} training samples\".format(len(df_train)))\n",
    "print(\"We have {} testing samples\".format(len(df_test)))"
   ]
  },
  {
   "cell_type": "markdown",
   "metadata": {
    "id": "5g3WyCkt5qCK"
   },
   "source": [
    "### 1.2 Adding a new categorical feature"
   ]
  },
  {
   "cell_type": "code",
   "execution_count": 15,
   "metadata": {
    "colab": {
     "base_uri": "https://localhost:8080/",
     "height": 424
    },
    "id": "h7yqtudHCKEN",
    "outputId": "96c2b711-85b8-4e26-b90a-472470d6cba6"
   },
   "outputs": [
    {
     "data": {
      "text/html": [
       "<div>\n",
       "<style scoped>\n",
       "    .dataframe tbody tr th:only-of-type {\n",
       "        vertical-align: middle;\n",
       "    }\n",
       "\n",
       "    .dataframe tbody tr th {\n",
       "        vertical-align: top;\n",
       "    }\n",
       "\n",
       "    .dataframe thead th {\n",
       "        text-align: right;\n",
       "    }\n",
       "</style>\n",
       "<table border=\"1\" class=\"dataframe\">\n",
       "  <thead>\n",
       "    <tr style=\"text-align: right;\">\n",
       "      <th></th>\n",
       "      <th>person_age</th>\n",
       "      <th>person_income</th>\n",
       "      <th>person_emp_length</th>\n",
       "      <th>loan_amnt</th>\n",
       "      <th>loan_int_rate</th>\n",
       "      <th>loan_percent_income</th>\n",
       "      <th>cb_person_cred_hist_length</th>\n",
       "    </tr>\n",
       "  </thead>\n",
       "  <tbody>\n",
       "    <tr>\n",
       "      <th>count</th>\n",
       "      <td>22807.000000</td>\n",
       "      <td>2.280700e+04</td>\n",
       "      <td>22807.000000</td>\n",
       "      <td>22807.000000</td>\n",
       "      <td>22807.000000</td>\n",
       "      <td>22807.000000</td>\n",
       "      <td>22807.000000</td>\n",
       "    </tr>\n",
       "    <tr>\n",
       "      <th>mean</th>\n",
       "      <td>27.746131</td>\n",
       "      <td>6.617714e+04</td>\n",
       "      <td>4.787784</td>\n",
       "      <td>9628.008945</td>\n",
       "      <td>11.010611</td>\n",
       "      <td>0.170186</td>\n",
       "      <td>5.809050</td>\n",
       "    </tr>\n",
       "    <tr>\n",
       "      <th>std</th>\n",
       "      <td>6.364268</td>\n",
       "      <td>6.498585e+04</td>\n",
       "      <td>4.005592</td>\n",
       "      <td>6347.400791</td>\n",
       "      <td>3.073599</td>\n",
       "      <td>0.106508</td>\n",
       "      <td>4.056826</td>\n",
       "    </tr>\n",
       "    <tr>\n",
       "      <th>min</th>\n",
       "      <td>20.000000</td>\n",
       "      <td>4.000000e+03</td>\n",
       "      <td>0.000000</td>\n",
       "      <td>500.000000</td>\n",
       "      <td>5.420000</td>\n",
       "      <td>0.000000</td>\n",
       "      <td>2.000000</td>\n",
       "    </tr>\n",
       "    <tr>\n",
       "      <th>25%</th>\n",
       "      <td>23.000000</td>\n",
       "      <td>3.900000e+04</td>\n",
       "      <td>2.000000</td>\n",
       "      <td>5000.000000</td>\n",
       "      <td>8.490000</td>\n",
       "      <td>0.090000</td>\n",
       "      <td>3.000000</td>\n",
       "    </tr>\n",
       "    <tr>\n",
       "      <th>50%</th>\n",
       "      <td>26.000000</td>\n",
       "      <td>5.500000e+04</td>\n",
       "      <td>4.000000</td>\n",
       "      <td>8000.000000</td>\n",
       "      <td>10.990000</td>\n",
       "      <td>0.150000</td>\n",
       "      <td>4.000000</td>\n",
       "    </tr>\n",
       "    <tr>\n",
       "      <th>75%</th>\n",
       "      <td>30.000000</td>\n",
       "      <td>7.920000e+04</td>\n",
       "      <td>7.000000</td>\n",
       "      <td>12250.000000</td>\n",
       "      <td>13.110000</td>\n",
       "      <td>0.230000</td>\n",
       "      <td>8.000000</td>\n",
       "    </tr>\n",
       "    <tr>\n",
       "      <th>max</th>\n",
       "      <td>144.000000</td>\n",
       "      <td>6.000000e+06</td>\n",
       "      <td>41.000000</td>\n",
       "      <td>35000.000000</td>\n",
       "      <td>23.220000</td>\n",
       "      <td>0.830000</td>\n",
       "      <td>30.000000</td>\n",
       "    </tr>\n",
       "  </tbody>\n",
       "</table>\n",
       "</div>"
      ],
      "text/plain": [
       "         person_age  person_income  person_emp_length     loan_amnt  \\\n",
       "count  22807.000000   2.280700e+04       22807.000000  22807.000000   \n",
       "mean      27.746131   6.617714e+04           4.787784   9628.008945   \n",
       "std        6.364268   6.498585e+04           4.005592   6347.400791   \n",
       "min       20.000000   4.000000e+03           0.000000    500.000000   \n",
       "25%       23.000000   3.900000e+04           2.000000   5000.000000   \n",
       "50%       26.000000   5.500000e+04           4.000000   8000.000000   \n",
       "75%       30.000000   7.920000e+04           7.000000  12250.000000   \n",
       "max      144.000000   6.000000e+06          41.000000  35000.000000   \n",
       "\n",
       "       loan_int_rate  loan_percent_income  cb_person_cred_hist_length  \n",
       "count   22807.000000         22807.000000                22807.000000  \n",
       "mean       11.010611             0.170186                    5.809050  \n",
       "std         3.073599             0.106508                    4.056826  \n",
       "min         5.420000             0.000000                    2.000000  \n",
       "25%         8.490000             0.090000                    3.000000  \n",
       "50%        10.990000             0.150000                    4.000000  \n",
       "75%        13.110000             0.230000                    8.000000  \n",
       "max        23.220000             0.830000                   30.000000  "
      ]
     },
     "execution_count": 15,
     "metadata": {},
     "output_type": "execute_result"
    }
   ],
   "source": [
    "# Describe numerical features of the training set\n",
    "df_train[numvars]\n",
    "df_train[numvars].describe()"
   ]
  },
  {
   "cell_type": "markdown",
   "metadata": {
    "id": "YqOwL6flKF1N"
   },
   "source": [
    "---\n",
    "Create a new categorical feature named `category_income` assigning a category 'A', 'B', 'C' and 'D' according to the feature `person_income` as follows:\n",
    "  * If `person_income` is in [0, 39000], then `category_income = 'D'`.\n",
    "  * If `person_income` is in [39000, 55000], then `category_income = 'C'`.\n",
    "  * If `person_income` is in [55000, 79000], then `category_income = 'B'`.\n",
    "  * If `person_income` is in [79000, +$\\infty$], then `category_income = 'A'`.\n",
    "---"
   ]
  },
  {
   "cell_type": "code",
   "execution_count": 16,
   "metadata": {
    "colab": {
     "base_uri": "https://localhost:8080/"
    },
    "id": "2ruJXcIkCRXt",
    "outputId": "9d3f2ec7-3d25-4bfd-bdb0-ad8fb99efb3c"
   },
   "outputs": [
    {
     "data": {
      "text/plain": [
       "count    2.280700e+04\n",
       "mean     6.617714e+04\n",
       "std      6.498585e+04\n",
       "min      4.000000e+03\n",
       "25%      3.900000e+04\n",
       "50%      5.500000e+04\n",
       "75%      7.920000e+04\n",
       "max      6.000000e+06\n",
       "Name: person_income, dtype: float64"
      ]
     },
     "execution_count": 16,
     "metadata": {},
     "output_type": "execute_result"
    }
   ],
   "source": [
    "df_train[\"person_income\"].describe()"
   ]
  },
  {
   "cell_type": "code",
   "execution_count": 17,
   "metadata": {
    "id": "aD89OAEECb8t"
   },
   "outputs": [],
   "source": [
    "# Income intervals\n",
    "intervals = (0, 39000, 55000, 79000, 6000000)\n",
    "# Categories\n",
    "categories = [\"D\", \"C\", \"B\", \"A\"]\n",
    "# Create the new feature\n",
    "df_train[\"category_income\"] = pd.cut(df_train.person_income, intervals, labels=categories)\n",
    "df_test[\"category_income\"] = pd.cut(df_test.person_income, intervals, labels=categories)\n",
    "# Add the new category `category_income` to the list of categorical variables\n",
    "catvars.append(\"category_income\")"
   ]
  },
  {
   "cell_type": "markdown",
   "metadata": {
    "id": "5o1pvnyjEBF3"
   },
   "source": [
    "# 2. Visualization"
   ]
  },
  {
   "cell_type": "code",
   "execution_count": 18,
   "metadata": {
    "colab": {
     "base_uri": "https://localhost:8080/"
    },
    "id": "23oo_z34SL1c",
    "outputId": "7c26a479-6716-4b82-d0e9-b8ad82e8cd4d"
   },
   "outputs": [
    {
     "data": {
      "text/plain": [
       "array(['MORTGAGE', 'RENT', 'OWN', 'OTHER'], dtype=object)"
      ]
     },
     "execution_count": 18,
     "metadata": {},
     "output_type": "execute_result"
    }
   ],
   "source": [
    "# The different values of person_home_ownsership\n",
    "df_train[\"person_home_ownership\"].unique()"
   ]
  },
  {
   "cell_type": "code",
   "execution_count": 19,
   "metadata": {
    "colab": {
     "base_uri": "https://localhost:8080/",
     "height": 459
    },
    "id": "mjwv_Tw39FNT",
    "outputId": "72f5356d-8301-4eef-9d25-021f14e17049"
   },
   "outputs": [
    {
     "data": {
      "image/png": "[encoded data removed]",
      "text/plain": [
       "<Figure size 1000x700 with 1 Axes>"
      ]
     },
     "metadata": {},
     "output_type": "display_data"
    }
   ],
   "source": [
    "fig = plt.figure(figsize=(10, 7))\n",
    "g = sns.countplot(x=\"person_home_ownership\", data=df_train, palette=\"hls\", hue=\"loan_status\")\n",
    "g.set_title(\"Count Plot for person_home_ownership represented in the training data\")\n",
    "plt.show()"
   ]
  },
  {
   "cell_type": "markdown",
   "metadata": {
    "id": "G-ky4dPucJUH"
   },
   "source": [
    "### 2.2 Numerical variable distribution"
   ]
  },
  {
   "cell_type": "markdown",
   "metadata": {
    "id": "q9mt9f_ydrAC"
   },
   "source": [
    "We want to plot a univariate distribution of a numerical variable associated to the \"0\" and \"1\" targets. "
   ]
  },
  {
   "cell_type": "code",
   "execution_count": 27,
   "metadata": {
    "colab": {
     "base_uri": "https://localhost:8080/",
     "height": 587
    },
    "id": "BraoDr6GcaYD",
    "outputId": "d5ef14dc-0aa6-40fc-89b7-5c00ba6da9ae"
   },
   "outputs": [
    {
     "data": {
      "text/plain": [
       "<Figure size 1400x700 with 0 Axes>"
      ]
     },
     "metadata": {},
     "output_type": "display_data"
    },
    {
     "data": {
      "image/png": "[encoded data removed]",
      "text/plain": [
       "<Figure size 1490.49x700 with 1 Axes>"
      ]
     },
     "metadata": {},
     "output_type": "display_data"
    }
   ],
   "source": [
    "plt.figure(figsize=(14, 7))\n",
    "\n",
    "sns.displot(data=df_train, x=\"person_income\", hue=\"loan_status\", kind=\"kde\", \n",
    "            fill=True, common_norm=False, palette=[\"g\", \"r\"], height=7, aspect=2)\n",
    "\n",
    "plt.xlabel(\"Person Income\")\n",
    "plt.xlim(0, 200000)\n",
    "plt.ylabel(\"Frequency\")\n",
    "plt.title(\"Person Income Distribution According to Loan Status\")\n",
    "plt.show()"
   ]
  },
  {
   "cell_type": "markdown",
   "metadata": {
    "id": "TkPcVyHni9p4"
   },
   "source": [
    "---\n",
    "\n",
    "We can see that the distribution of `person_income` associated the target '0' (No default) is shifted to the right, in comparison with the one associated with the target '1' (default).\n",
    "\n",
    "---"
   ]
  },
  {
   "cell_type": "markdown",
   "metadata": {
    "id": "44-3sDdqWFdS"
   },
   "source": [
    "### 2.3 Boxplots "
   ]
  },
  {
   "cell_type": "markdown",
   "metadata": {
    "id": "8m0lMx2jKSF1"
   },
   "source": [
    "---\n",
    "\n",
    "The distribution of the numerical feature `loan_amnt` according to the new categorical variable `category_income` and the targets `loan_status`. \n",
    "\n",
    "---"
   ]
  },
  {
   "cell_type": "code",
   "execution_count": 28,
   "metadata": {
    "colab": {
     "base_uri": "https://localhost:8080/",
     "height": 459
    },
    "id": "rhEdDWrz9FLI",
    "outputId": "65c19585-d0b2-430f-b051-9765d3e7e997"
   },
   "outputs": [
    {
     "data": {
      "image/png": "[encoded data removed]",
      "text/plain": [
       "<Figure size 1400x700 with 1 Axes>"
      ]
     },
     "metadata": {},
     "output_type": "display_data"
    }
   ],
   "source": [
    "fig = plt.figure(figsize=(14, 7))\n",
    "g = sns.boxplot(x=\"category_income\", y=\"loan_amnt\", data=df_train, palette=\"hls\",hue=\"loan_status\")\n",
    "g.set_title(\"Loan Amount by Loan Intent\")\n",
    "plt.show()"
   ]
  },
  {
   "cell_type": "markdown",
   "metadata": {
    "id": "vDFtR_RjGCkY"
   },
   "source": [
    "# 3. Preprocessing the data"
   ]
  },
  {
   "cell_type": "markdown",
   "metadata": {
    "id": "v8HcghXHgkk3"
   },
   "source": [
    "### 3.1. Preprocessing categorical variables "
   ]
  },
  {
   "cell_type": "markdown",
   "metadata": {
    "id": "Q9Ow6MljoSSY"
   },
   "source": [
    "* Let's suppose we have a categorical variable X that can take K different values $\\{1, \\dots, K\\}$\n",
    "\n",
    "* **One hot encoding** a category consists in transforming the category into a vector $\\in \\mathbb{R}^K$ where we have 1 in the position of the category and zeros elswhere. \n",
    "\n",
    "* For instance, if $K=4$, the category \"3\" for one sample is one hot encoded into the vector $[0, 0, 1, 0]$\n",
    "\n",
    "\n",
    "* Therefore, we can turn a catogorical feature into K features. \n",
    "\n",
    "* As each sample is only mapped to one category, the K features are not independent (the K-th feature can be deduced from the K-1 first features). Therefore, we usually drop one of the columns."
   ]
  },
  {
   "cell_type": "markdown",
   "metadata": {
    "id": "UIuGW1ApureQ"
   },
   "source": [
    "The categories:"
   ]
  },
  {
   "cell_type": "code",
   "execution_count": null,
   "metadata": {
    "colab": {
     "base_uri": "https://localhost:8080/"
    },
    "id": "e1c01eqBghnq",
    "outputId": "25183f06-688d-4b0f-96ce-2e5c2afc47cd"
   },
   "outputs": [
    {
     "data": {
      "text/plain": [
       "['person_home_ownership',\n",
       " 'loan_intent',\n",
       " 'loan_grade',\n",
       " 'cb_person_default_on_file',\n",
       " 'category_income']"
      ]
     },
     "execution_count": 24,
     "metadata": {},
     "output_type": "execute_result"
    }
   ],
   "source": [
    "catvars"
   ]
  },
  {
   "cell_type": "code",
   "execution_count": 1,
   "metadata": {
    "colab": {
     "base_uri": "https://localhost:8080/"
    },
    "id": "_n4EbeNUtVgA",
    "outputId": "5def6b8d-6072-433d-b095-b3e1f090e14e"
   },
   "outputs": [
    {
     "ename": "NameError",
     "evalue": "name 'catvars' is not defined",
     "output_type": "error",
     "traceback": [
      "\u001b[1;31m---------------------------------------------------------------------------\u001b[0m",
      "\u001b[1;31mNameError\u001b[0m                                 Traceback (most recent call last)",
      "Cell \u001b[1;32mIn[1], line 1\u001b[0m\n\u001b[1;32m----> 1\u001b[0m \u001b[38;5;28;01mfor\u001b[39;00m categorical_variable \u001b[38;5;129;01min\u001b[39;00m \u001b[43mcatvars\u001b[49m:\n\u001b[0;32m      2\u001b[0m   \u001b[38;5;28mprint\u001b[39m(\u001b[38;5;124mf\u001b[39m\u001b[38;5;124m\"\u001b[39m\u001b[38;5;124mFeature: \u001b[39m\u001b[38;5;132;01m{\u001b[39;00mcategorical_variable\u001b[38;5;132;01m}\u001b[39;00m\u001b[38;5;124m ... Categories: \u001b[39m\u001b[38;5;132;01m{\u001b[39;00mdf_train[categorical_variable]\u001b[38;5;241m.\u001b[39munique()\u001b[38;5;132;01m}\u001b[39;00m\u001b[38;5;124m\"\u001b[39m)\n",
      "\u001b[1;31mNameError\u001b[0m: name 'catvars' is not defined"
     ]
    }
   ],
   "source": [
    "for categorical_variable in catvars:\n",
    "  print(f\"Feature: {categorical_variable} ... Categories: {df_train[categorical_variable].unique()}\")"
   ]
  },
  {
   "cell_type": "markdown",
   "metadata": {
    "id": "ijzgiaUButpB"
   },
   "source": [
    "The number of categories:"
   ]
  },
  {
   "cell_type": "code",
   "execution_count": null,
   "metadata": {
    "colab": {
     "base_uri": "https://localhost:8080/"
    },
    "id": "hY5V4AcfuPdw",
    "outputId": "c89192b0-ace3-4c42-f7a8-7a3c2280b2b2"
   },
   "outputs": [
    {
     "data": {
      "text/plain": [
       "person_home_ownership        4\n",
       "loan_intent                  6\n",
       "loan_grade                   7\n",
       "cb_person_default_on_file    2\n",
       "category_income              4\n",
       "dtype: int64"
      ]
     },
     "execution_count": 26,
     "metadata": {},
     "output_type": "execute_result"
    }
   ],
   "source": [
    "# For each categorical variable, the number of possible categories\n",
    "df_train[catvars].nunique()"
   ]
  },
  {
   "cell_type": "code",
   "execution_count": null,
   "metadata": {
    "colab": {
     "base_uri": "https://localhost:8080/"
    },
    "id": "RZhYEX2vz9lZ",
    "outputId": "f74607f9-970f-4055-d620-942ee996decd"
   },
   "outputs": [
    {
     "data": {
      "text/plain": [
       "(22807, 13)"
      ]
     },
     "execution_count": 29,
     "metadata": {},
     "output_type": "execute_result"
    }
   ],
   "source": [
    "# 1 for target (loan_status)\n",
    "# 5 categorical variables\n",
    "# 7 numerical variables \n",
    "df_train.shape"
   ]
  },
  {
   "cell_type": "code",
   "execution_count": 31,
   "metadata": {
    "id": "1ToPF7IV9E-w"
   },
   "outputs": [
    {
     "data": {
      "text/plain": [
       "[array(['person_home_ownership'], dtype=object),\n",
       " array(['loan_intent'], dtype=object),\n",
       " array(['loan_grade'], dtype=object),\n",
       " array(['cb_person_default_on_file'], dtype=object)]"
      ]
     },
     "execution_count": 31,
     "metadata": {},
     "output_type": "execute_result"
    }
   ],
   "source": [
    "from sklearn.preprocessing import OneHotEncoder\n",
    "\n",
    "# Initialize the OneHotEncoder\n",
    "encoder = OneHotEncoder(sparse=False, drop='first')\n",
    "\n",
    "# Fit and transform the categorical columns\n",
    "encoded_data = encoder.fit_transform(df_train[catvars])\n",
    "\n",
    "# Create a DataFrame with the one-hot encoded data\n",
    "encoded_df = pd.DataFrame(encoded_data, columns=encoder.get_feature_names(catvars))\n",
    "\n",
    "# Concatenate the one-hot encoded DataFrame with the original DataFrame\n",
    "df_train = pd.concat([df_train.drop(columns=catvars), encoded_df], axis=1)\n"
   ]
  },
  {
   "cell_type": "code",
   "execution_count": null,
   "metadata": {
    "id": "uF7uO-scH0cz"
   },
   "outputs": [],
   "source": [
    "df_test = pd.get_dummies(df_test,\n",
    "                         columns=catvars,\n",
    "                         dummy_na=False,\n",
    "                         drop_first=True)"
   ]
  },
  {
   "cell_type": "code",
   "execution_count": null,
   "metadata": {
    "colab": {
     "base_uri": "https://localhost:8080/"
    },
    "id": "KPogyWk_ikQR",
    "outputId": "17d54b23-cd9b-44f0-8808-af54ea241afb"
   },
   "outputs": [
    {
     "data": {
      "text/plain": [
       "['person_home_ownership',\n",
       " 'loan_intent',\n",
       " 'loan_grade',\n",
       " 'cb_person_default_on_file',\n",
       " 'category_income']"
      ]
     },
     "execution_count": 33,
     "metadata": {},
     "output_type": "execute_result"
    }
   ],
   "source": [
    "catvars"
   ]
  },
  {
   "cell_type": "markdown",
   "metadata": {
    "id": "kkGQviAySc9r"
   },
   "source": [
    "---\n",
    "<font color=green>Q22:</font>\n",
    "<br><font color='green'>\n",
    "Explain the new shape of `df_train` after the one hot encoding ?\n",
    "</font>\n",
    "\n",
    "---"
   ]
  },
  {
   "cell_type": "markdown",
   "metadata": {
    "id": "sSOlBd9UW17b"
   },
   "source": [
    "<center><img width=\"1000\" src = \"https://drive.google.com/uc?export=view&id=1eEOIb904c2UOT82AUYdjaZINj9rVr1Ji\"></center>"
   ]
  },
  {
   "cell_type": "code",
   "execution_count": null,
   "metadata": {
    "colab": {
     "base_uri": "https://localhost:8080/"
    },
    "id": "2tGaoTB2qWZg",
    "outputId": "d2fcdbfd-462a-4049-9d25-d85f1b107a27"
   },
   "outputs": [
    {
     "data": {
      "text/plain": [
       "(22807, 26)"
      ]
     },
     "execution_count": 34,
     "metadata": {},
     "output_type": "execute_result"
    }
   ],
   "source": [
    "df_train.shape"
   ]
  },
  {
   "cell_type": "markdown",
   "metadata": {
    "id": "jFCjcTXKo8b8"
   },
   "source": [
    "---\n",
    "* Number of Dummy variables: 18.\n",
    "  * person_home_ownership     ---->   4 possible values ----> 3 Dummy variables \n",
    "  * loan_intent               ---->   6 possible values ----> 5 Dummy variables\n",
    "  * loan_grade                ---->   7 possible values ----> 6 Dummy variables\n",
    "  * cb_person_default_on_file ---->   2 possible values ----> 1 Dummy variable\n",
    "  * category_income           ---->   4 possible values ----> 3 Dummy variables\n",
    "\n",
    "* Number of Numerical variables: 7. \n",
    "\n",
    "* One column for the target `loan_status`. \n",
    "\n",
    "* Total number of columns: 26\n",
    "---"
   ]
  },
  {
   "cell_type": "code",
   "execution_count": null,
   "metadata": {
    "colab": {
     "base_uri": "https://localhost:8080/",
     "height": 456
    },
    "id": "wR2zkzCGluve",
    "outputId": "2b7269c4-6ff0-4e92-ff22-8013338a8e20"
   },
   "outputs": [
    {
     "data": {
      "text/html": [
       "\n",
       "  <div id=\"df-7e1b6969-dcc5-4173-9fc3-6df3ffebb49b\">\n",
       "    <div class=\"colab-df-container\">\n",
       "      <div>\n",
       "<style scoped>\n",
       "    .dataframe tbody tr th:only-of-type {\n",
       "        vertical-align: middle;\n",
       "    }\n",
       "\n",
       "    .dataframe tbody tr th {\n",
       "        vertical-align: top;\n",
       "    }\n",
       "\n",
       "    .dataframe thead th {\n",
       "        text-align: right;\n",
       "    }\n",
       "</style>\n",
       "<table border=\"1\" class=\"dataframe\">\n",
       "  <thead>\n",
       "    <tr style=\"text-align: right;\">\n",
       "      <th></th>\n",
       "      <th>person_age</th>\n",
       "      <th>person_income</th>\n",
       "      <th>person_emp_length</th>\n",
       "      <th>loan_amnt</th>\n",
       "      <th>loan_int_rate</th>\n",
       "      <th>loan_status</th>\n",
       "      <th>loan_percent_income</th>\n",
       "      <th>cb_person_cred_hist_length</th>\n",
       "      <th>person_home_ownership_OTHER</th>\n",
       "      <th>person_home_ownership_OWN</th>\n",
       "      <th>...</th>\n",
       "      <th>loan_grade_B</th>\n",
       "      <th>loan_grade_C</th>\n",
       "      <th>loan_grade_D</th>\n",
       "      <th>loan_grade_E</th>\n",
       "      <th>loan_grade_F</th>\n",
       "      <th>loan_grade_G</th>\n",
       "      <th>cb_person_default_on_file_Y</th>\n",
       "      <th>category_income_C</th>\n",
       "      <th>category_income_B</th>\n",
       "      <th>category_income_A</th>\n",
       "    </tr>\n",
       "  </thead>\n",
       "  <tbody>\n",
       "    <tr>\n",
       "      <th>0</th>\n",
       "      <td>23</td>\n",
       "      <td>30000</td>\n",
       "      <td>0.0</td>\n",
       "      <td>5000</td>\n",
       "      <td>11.86</td>\n",
       "      <td>0</td>\n",
       "      <td>0.17</td>\n",
       "      <td>2</td>\n",
       "      <td>0</td>\n",
       "      <td>0</td>\n",
       "      <td>...</td>\n",
       "      <td>1</td>\n",
       "      <td>0</td>\n",
       "      <td>0</td>\n",
       "      <td>0</td>\n",
       "      <td>0</td>\n",
       "      <td>0</td>\n",
       "      <td>0</td>\n",
       "      <td>0</td>\n",
       "      <td>0</td>\n",
       "      <td>0</td>\n",
       "    </tr>\n",
       "    <tr>\n",
       "      <th>1</th>\n",
       "      <td>21</td>\n",
       "      <td>19200</td>\n",
       "      <td>5.0</td>\n",
       "      <td>3300</td>\n",
       "      <td>6.17</td>\n",
       "      <td>1</td>\n",
       "      <td>0.17</td>\n",
       "      <td>2</td>\n",
       "      <td>0</td>\n",
       "      <td>1</td>\n",
       "      <td>...</td>\n",
       "      <td>0</td>\n",
       "      <td>0</td>\n",
       "      <td>0</td>\n",
       "      <td>0</td>\n",
       "      <td>0</td>\n",
       "      <td>0</td>\n",
       "      <td>0</td>\n",
       "      <td>0</td>\n",
       "      <td>0</td>\n",
       "      <td>0</td>\n",
       "    </tr>\n",
       "    <tr>\n",
       "      <th>2</th>\n",
       "      <td>23</td>\n",
       "      <td>125000</td>\n",
       "      <td>6.0</td>\n",
       "      <td>35000</td>\n",
       "      <td>8.90</td>\n",
       "      <td>0</td>\n",
       "      <td>0.28</td>\n",
       "      <td>4</td>\n",
       "      <td>0</td>\n",
       "      <td>0</td>\n",
       "      <td>...</td>\n",
       "      <td>0</td>\n",
       "      <td>0</td>\n",
       "      <td>0</td>\n",
       "      <td>0</td>\n",
       "      <td>0</td>\n",
       "      <td>0</td>\n",
       "      <td>0</td>\n",
       "      <td>0</td>\n",
       "      <td>0</td>\n",
       "      <td>1</td>\n",
       "    </tr>\n",
       "    <tr>\n",
       "      <th>3</th>\n",
       "      <td>24</td>\n",
       "      <td>48000</td>\n",
       "      <td>0.0</td>\n",
       "      <td>2400</td>\n",
       "      <td>12.99</td>\n",
       "      <td>0</td>\n",
       "      <td>0.05</td>\n",
       "      <td>4</td>\n",
       "      <td>0</td>\n",
       "      <td>0</td>\n",
       "      <td>...</td>\n",
       "      <td>0</td>\n",
       "      <td>1</td>\n",
       "      <td>0</td>\n",
       "      <td>0</td>\n",
       "      <td>0</td>\n",
       "      <td>0</td>\n",
       "      <td>1</td>\n",
       "      <td>1</td>\n",
       "      <td>0</td>\n",
       "      <td>0</td>\n",
       "    </tr>\n",
       "    <tr>\n",
       "      <th>4</th>\n",
       "      <td>26</td>\n",
       "      <td>120000</td>\n",
       "      <td>10.0</td>\n",
       "      <td>5000</td>\n",
       "      <td>13.49</td>\n",
       "      <td>0</td>\n",
       "      <td>0.04</td>\n",
       "      <td>2</td>\n",
       "      <td>0</td>\n",
       "      <td>0</td>\n",
       "      <td>...</td>\n",
       "      <td>0</td>\n",
       "      <td>1</td>\n",
       "      <td>0</td>\n",
       "      <td>0</td>\n",
       "      <td>0</td>\n",
       "      <td>0</td>\n",
       "      <td>1</td>\n",
       "      <td>0</td>\n",
       "      <td>0</td>\n",
       "      <td>1</td>\n",
       "    </tr>\n",
       "    <tr>\n",
       "      <th>5</th>\n",
       "      <td>22</td>\n",
       "      <td>30000</td>\n",
       "      <td>3.0</td>\n",
       "      <td>8000</td>\n",
       "      <td>12.53</td>\n",
       "      <td>0</td>\n",
       "      <td>0.27</td>\n",
       "      <td>2</td>\n",
       "      <td>0</td>\n",
       "      <td>0</td>\n",
       "      <td>...</td>\n",
       "      <td>1</td>\n",
       "      <td>0</td>\n",
       "      <td>0</td>\n",
       "      <td>0</td>\n",
       "      <td>0</td>\n",
       "      <td>0</td>\n",
       "      <td>0</td>\n",
       "      <td>0</td>\n",
       "      <td>0</td>\n",
       "      <td>0</td>\n",
       "    </tr>\n",
       "    <tr>\n",
       "      <th>6</th>\n",
       "      <td>26</td>\n",
       "      <td>60000</td>\n",
       "      <td>0.0</td>\n",
       "      <td>5000</td>\n",
       "      <td>7.14</td>\n",
       "      <td>0</td>\n",
       "      <td>0.08</td>\n",
       "      <td>2</td>\n",
       "      <td>0</td>\n",
       "      <td>0</td>\n",
       "      <td>...</td>\n",
       "      <td>0</td>\n",
       "      <td>0</td>\n",
       "      <td>0</td>\n",
       "      <td>0</td>\n",
       "      <td>0</td>\n",
       "      <td>0</td>\n",
       "      <td>0</td>\n",
       "      <td>0</td>\n",
       "      <td>1</td>\n",
       "      <td>0</td>\n",
       "    </tr>\n",
       "    <tr>\n",
       "      <th>7</th>\n",
       "      <td>34</td>\n",
       "      <td>357000</td>\n",
       "      <td>3.0</td>\n",
       "      <td>14000</td>\n",
       "      <td>18.64</td>\n",
       "      <td>0</td>\n",
       "      <td>0.04</td>\n",
       "      <td>9</td>\n",
       "      <td>0</td>\n",
       "      <td>0</td>\n",
       "      <td>...</td>\n",
       "      <td>0</td>\n",
       "      <td>0</td>\n",
       "      <td>0</td>\n",
       "      <td>1</td>\n",
       "      <td>0</td>\n",
       "      <td>0</td>\n",
       "      <td>1</td>\n",
       "      <td>0</td>\n",
       "      <td>0</td>\n",
       "      <td>1</td>\n",
       "    </tr>\n",
       "    <tr>\n",
       "      <th>8</th>\n",
       "      <td>24</td>\n",
       "      <td>36000</td>\n",
       "      <td>2.0</td>\n",
       "      <td>5200</td>\n",
       "      <td>9.91</td>\n",
       "      <td>0</td>\n",
       "      <td>0.14</td>\n",
       "      <td>3</td>\n",
       "      <td>0</td>\n",
       "      <td>0</td>\n",
       "      <td>...</td>\n",
       "      <td>1</td>\n",
       "      <td>0</td>\n",
       "      <td>0</td>\n",
       "      <td>0</td>\n",
       "      <td>0</td>\n",
       "      <td>0</td>\n",
       "      <td>0</td>\n",
       "      <td>0</td>\n",
       "      <td>0</td>\n",
       "      <td>0</td>\n",
       "    </tr>\n",
       "    <tr>\n",
       "      <th>9</th>\n",
       "      <td>23</td>\n",
       "      <td>20004</td>\n",
       "      <td>6.0</td>\n",
       "      <td>7125</td>\n",
       "      <td>6.99</td>\n",
       "      <td>0</td>\n",
       "      <td>0.36</td>\n",
       "      <td>2</td>\n",
       "      <td>0</td>\n",
       "      <td>0</td>\n",
       "      <td>...</td>\n",
       "      <td>0</td>\n",
       "      <td>0</td>\n",
       "      <td>0</td>\n",
       "      <td>0</td>\n",
       "      <td>0</td>\n",
       "      <td>0</td>\n",
       "      <td>0</td>\n",
       "      <td>0</td>\n",
       "      <td>0</td>\n",
       "      <td>0</td>\n",
       "    </tr>\n",
       "  </tbody>\n",
       "</table>\n",
       "<p>10 rows × 26 columns</p>\n",
       "</div>\n",
       "      <button class=\"colab-df-convert\" onclick=\"convertToInteractive('df-7e1b6969-dcc5-4173-9fc3-6df3ffebb49b')\"\n",
       "              title=\"Convert this dataframe to an interactive table.\"\n",
       "              style=\"display:none;\">\n",
       "        \n",
       "  <svg xmlns=\"http://www.w3.org/2000/svg\" height=\"24px\"viewBox=\"0 0 24 24\"\n",
       "       width=\"24px\">\n",
       "    <path d=\"M0 0h24v24H0V0z\" fill=\"none\"/>\n",
       "    <path d=\"M18.56 5.44l.94 2.06.94-2.06 2.06-.94-2.06-.94-.94-2.06-.94 2.06-2.06.94zm-11 1L8.5 8.5l.94-2.06 2.06-.94-2.06-.94L8.5 2.5l-.94 2.06-2.06.94zm10 10l.94 2.06.94-2.06 2.06-.94-2.06-.94-.94-2.06-.94 2.06-2.06.94z\"/><path d=\"M17.41 7.96l-1.37-1.37c-.4-.4-.92-.59-1.43-.59-.52 0-1.04.2-1.43.59L10.3 9.45l-7.72 7.72c-.78.78-.78 2.05 0 2.83L4 21.41c.39.39.9.59 1.41.59.51 0 1.02-.2 1.41-.59l7.78-7.78 2.81-2.81c.8-.78.8-2.07 0-2.86zM5.41 20L4 18.59l7.72-7.72 1.47 1.35L5.41 20z\"/>\n",
       "  </svg>\n",
       "      </button>\n",
       "      \n",
       "  <style>\n",
       "    .colab-df-container {\n",
       "      display:flex;\n",
       "      flex-wrap:wrap;\n",
       "      gap: 12px;\n",
       "    }\n",
       "\n",
       "    .colab-df-convert {\n",
       "      background-color: #E8F0FE;\n",
       "      border: none;\n",
       "      border-radius: 50%;\n",
       "      cursor: pointer;\n",
       "      display: none;\n",
       "      fill: #1967D2;\n",
       "      height: 32px;\n",
       "      padding: 0 0 0 0;\n",
       "      width: 32px;\n",
       "    }\n",
       "\n",
       "    .colab-df-convert:hover {\n",
       "      background-color: #E2EBFA;\n",
       "      box-shadow: 0px 1px 2px rgba(60, 64, 67, 0.3), 0px 1px 3px 1px rgba(60, 64, 67, 0.15);\n",
       "      fill: #174EA6;\n",
       "    }\n",
       "\n",
       "    [theme=dark] .colab-df-convert {\n",
       "      background-color: #3B4455;\n",
       "      fill: #D2E3FC;\n",
       "    }\n",
       "\n",
       "    [theme=dark] .colab-df-convert:hover {\n",
       "      background-color: #434B5C;\n",
       "      box-shadow: 0px 1px 3px 1px rgba(0, 0, 0, 0.15);\n",
       "      filter: drop-shadow(0px 1px 2px rgba(0, 0, 0, 0.3));\n",
       "      fill: #FFFFFF;\n",
       "    }\n",
       "  </style>\n",
       "\n",
       "      <script>\n",
       "        const buttonEl =\n",
       "          document.querySelector('#df-7e1b6969-dcc5-4173-9fc3-6df3ffebb49b button.colab-df-convert');\n",
       "        buttonEl.style.display =\n",
       "          google.colab.kernel.accessAllowed ? 'block' : 'none';\n",
       "\n",
       "        async function convertToInteractive(key) {\n",
       "          const element = document.querySelector('#df-7e1b6969-dcc5-4173-9fc3-6df3ffebb49b');\n",
       "          const dataTable =\n",
       "            await google.colab.kernel.invokeFunction('convertToInteractive',\n",
       "                                                     [key], {});\n",
       "          if (!dataTable) return;\n",
       "\n",
       "          const docLinkHtml = 'Like what you see? Visit the ' +\n",
       "            '<a target=\"_blank\" href=https://colab.research.google.com/notebooks/data_table.ipynb>data table notebook</a>'\n",
       "            + ' to learn more about interactive tables.';\n",
       "          element.innerHTML = '';\n",
       "          dataTable['output_type'] = 'display_data';\n",
       "          await google.colab.output.renderOutput(dataTable, element);\n",
       "          const docLink = document.createElement('div');\n",
       "          docLink.innerHTML = docLinkHtml;\n",
       "          element.appendChild(docLink);\n",
       "        }\n",
       "      </script>\n",
       "    </div>\n",
       "  </div>\n",
       "  "
      ],
      "text/plain": [
       "   person_age  person_income  person_emp_length  loan_amnt  loan_int_rate  \\\n",
       "0          23          30000                0.0       5000          11.86   \n",
       "1          21          19200                5.0       3300           6.17   \n",
       "2          23         125000                6.0      35000           8.90   \n",
       "3          24          48000                0.0       2400          12.99   \n",
       "4          26         120000               10.0       5000          13.49   \n",
       "5          22          30000                3.0       8000          12.53   \n",
       "6          26          60000                0.0       5000           7.14   \n",
       "7          34         357000                3.0      14000          18.64   \n",
       "8          24          36000                2.0       5200           9.91   \n",
       "9          23          20004                6.0       7125           6.99   \n",
       "\n",
       "   loan_status  loan_percent_income  cb_person_cred_hist_length  \\\n",
       "0            0                 0.17                           2   \n",
       "1            1                 0.17                           2   \n",
       "2            0                 0.28                           4   \n",
       "3            0                 0.05                           4   \n",
       "4            0                 0.04                           2   \n",
       "5            0                 0.27                           2   \n",
       "6            0                 0.08                           2   \n",
       "7            0                 0.04                           9   \n",
       "8            0                 0.14                           3   \n",
       "9            0                 0.36                           2   \n",
       "\n",
       "   person_home_ownership_OTHER  person_home_ownership_OWN  ...  loan_grade_B  \\\n",
       "0                            0                          0  ...             1   \n",
       "1                            0                          1  ...             0   \n",
       "2                            0                          0  ...             0   \n",
       "3                            0                          0  ...             0   \n",
       "4                            0                          0  ...             0   \n",
       "5                            0                          0  ...             1   \n",
       "6                            0                          0  ...             0   \n",
       "7                            0                          0  ...             0   \n",
       "8                            0                          0  ...             1   \n",
       "9                            0                          0  ...             0   \n",
       "\n",
       "   loan_grade_C  loan_grade_D  loan_grade_E  loan_grade_F  loan_grade_G  \\\n",
       "0             0             0             0             0             0   \n",
       "1             0             0             0             0             0   \n",
       "2             0             0             0             0             0   \n",
       "3             1             0             0             0             0   \n",
       "4             1             0             0             0             0   \n",
       "5             0             0             0             0             0   \n",
       "6             0             0             0             0             0   \n",
       "7             0             0             1             0             0   \n",
       "8             0             0             0             0             0   \n",
       "9             0             0             0             0             0   \n",
       "\n",
       "   cb_person_default_on_file_Y  category_income_C  category_income_B  \\\n",
       "0                            0                  0                  0   \n",
       "1                            0                  0                  0   \n",
       "2                            0                  0                  0   \n",
       "3                            1                  1                  0   \n",
       "4                            1                  0                  0   \n",
       "5                            0                  0                  0   \n",
       "6                            0                  0                  1   \n",
       "7                            1                  0                  0   \n",
       "8                            0                  0                  0   \n",
       "9                            0                  0                  0   \n",
       "\n",
       "   category_income_A  \n",
       "0                  0  \n",
       "1                  0  \n",
       "2                  1  \n",
       "3                  0  \n",
       "4                  1  \n",
       "5                  0  \n",
       "6                  0  \n",
       "7                  1  \n",
       "8                  0  \n",
       "9                  0  \n",
       "\n",
       "[10 rows x 26 columns]"
      ]
     },
     "execution_count": 35,
     "metadata": {},
     "output_type": "execute_result"
    }
   ],
   "source": [
    "df_train.head(10)"
   ]
  },
  {
   "cell_type": "markdown",
   "metadata": {
    "id": "MRnlqR7f0_xM"
   },
   "source": [
    "### 3.2 Preprocessing Numerical Variables"
   ]
  },
  {
   "cell_type": "markdown",
   "metadata": {
    "id": "B1qiv_fbUU33"
   },
   "source": [
    "---\n",
    "<font color=green>Q23:</font>\n",
    "<br><font color='green'>\n",
    "Split `df_train` into `df_train_features` and `df_train_targets` and `df_test` into `df_test_features` and `df_test_targets` as shown in the figure below.\n",
    "</font>\n",
    "\n",
    "---"
   ]
  },
  {
   "cell_type": "markdown",
   "metadata": {
    "id": "uKJsnt9oWS6s"
   },
   "source": [
    "<center><img width=\"1000\" src = \"https://drive.google.com/uc?export=view&id=1V0Sjgbbef6mdNSAwKAUQLeJlOWJU-3np\"></center>"
   ]
  },
  {
   "cell_type": "code",
   "execution_count": null,
   "metadata": {
    "id": "FcGkGV0sZ9Zh"
   },
   "outputs": [],
   "source": [
    "df_train_targets = df_train['loan_status']\n",
    "df_train_features = df_train.drop('loan_status',axis=1)\n",
    "\n",
    "df_test_targets = df_test['loan_status']\n",
    "df_test_features = df_test.drop('loan_status',axis=1)"
   ]
  },
  {
   "cell_type": "markdown",
   "metadata": {
    "id": "6pPOiwA3Sji8"
   },
   "source": [
    "---\n",
    "<font color=green>Q24:</font>\n",
    "<br><font color='green'>\n",
    "Split each of `df_train_features` and `df_test_features` as shown in the figure below:\n",
    "\n",
    "* `df_train_features_numvars` and `df_test_features_numvars` containing the training abd testing numerical features\n",
    "* `df_train_features_rest` and `df_train_features_rest` containing the rest of the features.\n",
    "</font>\n",
    "\n",
    "---"
   ]
  },
  {
   "cell_type": "markdown",
   "metadata": {
    "id": "adTJFYBqmOX0"
   },
   "source": [
    "<center><img width=\"1000\" src = \"https://drive.google.com/uc?export=view&id=1loF_Uk967CSVlGKikXWbDxwpKAEGaDlg\"></center>"
   ]
  },
  {
   "cell_type": "code",
   "execution_count": null,
   "metadata": {
    "id": "-iyUvVzCZ9mS"
   },
   "outputs": [],
   "source": [
    "df_train_features_numvars = df_train_features[numvars]\n",
    "df_train_features_rest = df_train_features[df_train_features.columns[~df_train_features.columns.isin(numvars)]]\n",
    "\n",
    "\n",
    "df_test_features_numvars = df_test_features[numvars]\n",
    "df_test_features_rest = df_test_features[df_test_features.columns[~df_test_features.columns.isin(numvars)]]"
   ]
  },
  {
   "cell_type": "markdown",
   "metadata": {
    "id": "PZrYDOHESlc7"
   },
   "source": [
    "---\n",
    "<font color=green>Q25:</font>\n",
    "<br><font color='green'>\n",
    "Plot the histograms of the numerical variables `df_train_features_numvars` using `dataframe.hist()`\n",
    "</font>\n",
    "\n",
    "---"
   ]
  },
  {
   "cell_type": "code",
   "execution_count": null,
   "metadata": {
    "colab": {
     "base_uri": "https://localhost:8080/",
     "height": 499
    },
    "id": "5NWrJKx_1F8R",
    "outputId": "4c2c9916-fe08-4d60-e406-584829720032"
   },
   "outputs": [
    {
     "data": {
      "image/png": "[encoded data removed]",
      "text/plain": [
       "<Figure size 1152x576 with 9 Axes>"
      ]
     },
     "metadata": {},
     "output_type": "display_data"
    }
   ],
   "source": [
    "df_train_features_numvars.hist(figsize=(16, 8))\n",
    "plt.show()"
   ]
  },
  {
   "cell_type": "markdown",
   "metadata": {
    "id": "HzYjourW4rcw"
   },
   "source": [
    "There are two ways of scaling a numerical variable:"
   ]
  },
  {
   "cell_type": "markdown",
   "metadata": {
    "id": "_eJffUfDnlie"
   },
   "source": [
    "<center><img width=\"500\" src = \"https://drive.google.com/uc?export=view&id=1UiUAyNligNF9TQkavRdatKR-4WI3pxqz\"></center>"
   ]
  },
  {
   "cell_type": "markdown",
   "metadata": {
    "id": "5Z9xh8pMSmK-"
   },
   "source": [
    "---\n",
    "<font color=green>Q26:</font>\n",
    "<br><font color='green'>\n",
    "From `sklearn.preprocessing`, scale the numerical features using one of the two scaling methods:\n",
    "  * `StandardScaler()` to get a distribution with a mean = 0 and std = 1.\n",
    "  * `MinMaxScaler()` to map the data to the range [0, 1]\n",
    "</font>\n",
    "\n",
    "---"
   ]
  },
  {
   "cell_type": "markdown",
   "metadata": {
    "id": "YTf_ho6Emu00"
   },
   "source": [
    "<center><img width=\"1000\" src = \"https://drive.google.com/uc?export=view&id=1b2nPF0z0eMVwvH3g5Yu40AtKaQHFlMUa\"></center>"
   ]
  },
  {
   "cell_type": "code",
   "execution_count": null,
   "metadata": {
    "id": "r9GYNTS81F5w"
   },
   "outputs": [],
   "source": [
    "from sklearn.preprocessing import StandardScaler, MinMaxScaler\n",
    "# Instantiate models\n",
    "standard_scaler = StandardScaler()\n",
    "minmax_scaler = MinMaxScaler()\n",
    "# Fit and Transform the training numerical variables using StandardScaler\n",
    "df_train_features_numvars_std = pd.DataFrame(standard_scaler.fit_transform(df_train_features_numvars))\n",
    "# Transform the testing numerical variables using StandardScaler\n",
    "df_test_features_numvars_std = pd.DataFrame(standard_scaler.transform(df_test_features_numvars)) \n",
    "\n",
    "# Fit and Transform the training numerical variables using MinMaxScaler\n",
    "df_train_features_numvars_minmax = pd.DataFrame(minmax_scaler.fit_transform(df_train_features_numvars))\n",
    "# Transform the testing numerical variables using MinMaxScaler\n",
    "df_test_features_numvars_minmax = pd.DataFrame(minmax_scaler.transform(df_test_features_numvars)) "
   ]
  },
  {
   "cell_type": "markdown",
   "metadata": {
    "id": "XuD9xZKGSrEE"
   },
   "source": [
    "---\n",
    "<font color=green>Q27:</font>\n",
    "<br><font color='green'>\n",
    "Plot the histograms of the numerical features after the scaling process.\n",
    "</font>\n",
    "\n",
    "---"
   ]
  },
  {
   "cell_type": "code",
   "execution_count": null,
   "metadata": {
    "colab": {
     "base_uri": "https://localhost:8080/",
     "height": 499
    },
    "id": "mpY88zlz1F0N",
    "outputId": "6614043f-4ffd-44ca-9635-f5413fae969d"
   },
   "outputs": [
    {
     "data": {
      "image/png": "[encoded data removed]",
      "text/plain": [
       "<Figure size 1152x576 with 9 Axes>"
      ]
     },
     "metadata": {},
     "output_type": "display_data"
    }
   ],
   "source": [
    "df_train_features_numvars_std.hist(figsize=(16, 8))\n",
    "plt.show()"
   ]
  },
  {
   "cell_type": "markdown",
   "metadata": {
    "id": "8pmpWbzBSrs1"
   },
   "source": [
    "---\n",
    "<font color=green>Q28:</font>\n",
    "<br><font color='green'>\n",
    "Concatenate `df_train_features_rest` with your scaled dataframe of numerical features `df_train_features_numvars_std` to get the final dataframe `df_train_features_processed`. Same for the test data as shown in the figure below.\n",
    "</font>\n",
    "\n",
    "---"
   ]
  },
  {
   "cell_type": "markdown",
   "metadata": {
    "id": "AgFZAr_0m6xk"
   },
   "source": [
    "<center><img width=\"1000\" src = \"https://drive.google.com/uc?export=view&id=1VgznTzwgu32QTb6bjxdDzvu8gF5PyEvt\"></center>"
   ]
  },
  {
   "cell_type": "code",
   "execution_count": null,
   "metadata": {
    "id": "j7AVGTkTl691"
   },
   "outputs": [],
   "source": [
    "df_train_features_processed = pd.concat([df_train_features_numvars_std, df_train_features_rest], axis=1) \n",
    "df_test_features_processed = pd.concat([df_test_features_numvars_std, df_test_features_rest], axis=1)"
   ]
  },
  {
   "cell_type": "markdown",
   "metadata": {
    "id": "Hk9xeqprStol"
   },
   "source": [
    "---\n",
    "<font color=green>Q29:</font>\n",
    "<br><font color='green'>\n",
    "Show the first 5 rows of the new dataset\n",
    "</font>\n",
    "\n",
    "---"
   ]
  },
  {
   "cell_type": "code",
   "execution_count": null,
   "metadata": {
    "colab": {
     "base_uri": "https://localhost:8080/",
     "height": 300
    },
    "id": "KerQbc3Oy4H_",
    "outputId": "4f05355e-d91f-4e1a-a428-281ee2b055c8"
   },
   "outputs": [
    {
     "data": {
      "text/html": [
       "\n",
       "  <div id=\"df-c86d644c-4dd3-4423-a3c5-9e11813c4df2\">\n",
       "    <div class=\"colab-df-container\">\n",
       "      <div>\n",
       "<style scoped>\n",
       "    .dataframe tbody tr th:only-of-type {\n",
       "        vertical-align: middle;\n",
       "    }\n",
       "\n",
       "    .dataframe tbody tr th {\n",
       "        vertical-align: top;\n",
       "    }\n",
       "\n",
       "    .dataframe thead th {\n",
       "        text-align: right;\n",
       "    }\n",
       "</style>\n",
       "<table border=\"1\" class=\"dataframe\">\n",
       "  <thead>\n",
       "    <tr style=\"text-align: right;\">\n",
       "      <th></th>\n",
       "      <th>0</th>\n",
       "      <th>1</th>\n",
       "      <th>2</th>\n",
       "      <th>3</th>\n",
       "      <th>4</th>\n",
       "      <th>5</th>\n",
       "      <th>6</th>\n",
       "      <th>person_home_ownership_OTHER</th>\n",
       "      <th>person_home_ownership_OWN</th>\n",
       "      <th>person_home_ownership_RENT</th>\n",
       "      <th>...</th>\n",
       "      <th>loan_grade_B</th>\n",
       "      <th>loan_grade_C</th>\n",
       "      <th>loan_grade_D</th>\n",
       "      <th>loan_grade_E</th>\n",
       "      <th>loan_grade_F</th>\n",
       "      <th>loan_grade_G</th>\n",
       "      <th>cb_person_default_on_file_Y</th>\n",
       "      <th>category_income_C</th>\n",
       "      <th>category_income_B</th>\n",
       "      <th>category_income_A</th>\n",
       "    </tr>\n",
       "  </thead>\n",
       "  <tbody>\n",
       "    <tr>\n",
       "      <th>0</th>\n",
       "      <td>-0.740044</td>\n",
       "      <td>-0.688385</td>\n",
       "      <td>-1.169786</td>\n",
       "      <td>-0.725875</td>\n",
       "      <td>0.274137</td>\n",
       "      <td>-0.002054</td>\n",
       "      <td>-0.935119</td>\n",
       "      <td>0</td>\n",
       "      <td>0</td>\n",
       "      <td>1</td>\n",
       "      <td>...</td>\n",
       "      <td>1</td>\n",
       "      <td>0</td>\n",
       "      <td>0</td>\n",
       "      <td>0</td>\n",
       "      <td>0</td>\n",
       "      <td>0</td>\n",
       "      <td>0</td>\n",
       "      <td>0</td>\n",
       "      <td>0</td>\n",
       "      <td>0</td>\n",
       "    </tr>\n",
       "    <tr>\n",
       "      <th>1</th>\n",
       "      <td>-1.051338</td>\n",
       "      <td>-0.896450</td>\n",
       "      <td>0.055362</td>\n",
       "      <td>-0.995317</td>\n",
       "      <td>-1.574400</td>\n",
       "      <td>-0.002054</td>\n",
       "      <td>-0.935119</td>\n",
       "      <td>0</td>\n",
       "      <td>1</td>\n",
       "      <td>0</td>\n",
       "      <td>...</td>\n",
       "      <td>0</td>\n",
       "      <td>0</td>\n",
       "      <td>0</td>\n",
       "      <td>0</td>\n",
       "      <td>0</td>\n",
       "      <td>0</td>\n",
       "      <td>0</td>\n",
       "      <td>0</td>\n",
       "      <td>0</td>\n",
       "      <td>0</td>\n",
       "    </tr>\n",
       "    <tr>\n",
       "      <th>2</th>\n",
       "      <td>-0.740044</td>\n",
       "      <td>1.141813</td>\n",
       "      <td>0.300391</td>\n",
       "      <td>4.028983</td>\n",
       "      <td>-0.687492</td>\n",
       "      <td>1.030469</td>\n",
       "      <td>-0.444538</td>\n",
       "      <td>0</td>\n",
       "      <td>0</td>\n",
       "      <td>0</td>\n",
       "      <td>...</td>\n",
       "      <td>0</td>\n",
       "      <td>0</td>\n",
       "      <td>0</td>\n",
       "      <td>0</td>\n",
       "      <td>0</td>\n",
       "      <td>0</td>\n",
       "      <td>0</td>\n",
       "      <td>0</td>\n",
       "      <td>0</td>\n",
       "      <td>1</td>\n",
       "    </tr>\n",
       "    <tr>\n",
       "      <th>3</th>\n",
       "      <td>-0.584397</td>\n",
       "      <td>-0.341611</td>\n",
       "      <td>-1.169786</td>\n",
       "      <td>-1.137963</td>\n",
       "      <td>0.641246</td>\n",
       "      <td>-1.128442</td>\n",
       "      <td>-0.444538</td>\n",
       "      <td>0</td>\n",
       "      <td>0</td>\n",
       "      <td>1</td>\n",
       "      <td>...</td>\n",
       "      <td>0</td>\n",
       "      <td>1</td>\n",
       "      <td>0</td>\n",
       "      <td>0</td>\n",
       "      <td>0</td>\n",
       "      <td>0</td>\n",
       "      <td>1</td>\n",
       "      <td>1</td>\n",
       "      <td>0</td>\n",
       "      <td>0</td>\n",
       "    </tr>\n",
       "    <tr>\n",
       "      <th>4</th>\n",
       "      <td>-0.273104</td>\n",
       "      <td>1.045486</td>\n",
       "      <td>1.280510</td>\n",
       "      <td>-0.725875</td>\n",
       "      <td>0.803683</td>\n",
       "      <td>-1.222307</td>\n",
       "      <td>-0.935119</td>\n",
       "      <td>0</td>\n",
       "      <td>0</td>\n",
       "      <td>0</td>\n",
       "      <td>...</td>\n",
       "      <td>0</td>\n",
       "      <td>1</td>\n",
       "      <td>0</td>\n",
       "      <td>0</td>\n",
       "      <td>0</td>\n",
       "      <td>0</td>\n",
       "      <td>1</td>\n",
       "      <td>0</td>\n",
       "      <td>0</td>\n",
       "      <td>1</td>\n",
       "    </tr>\n",
       "  </tbody>\n",
       "</table>\n",
       "<p>5 rows × 25 columns</p>\n",
       "</div>\n",
       "      <button class=\"colab-df-convert\" onclick=\"convertToInteractive('df-c86d644c-4dd3-4423-a3c5-9e11813c4df2')\"\n",
       "              title=\"Convert this dataframe to an interactive table.\"\n",
       "              style=\"display:none;\">\n",
       "        \n",
       "  <svg xmlns=\"http://www.w3.org/2000/svg\" height=\"24px\"viewBox=\"0 0 24 24\"\n",
       "       width=\"24px\">\n",
       "    <path d=\"M0 0h24v24H0V0z\" fill=\"none\"/>\n",
       "    <path d=\"M18.56 5.44l.94 2.06.94-2.06 2.06-.94-2.06-.94-.94-2.06-.94 2.06-2.06.94zm-11 1L8.5 8.5l.94-2.06 2.06-.94-2.06-.94L8.5 2.5l-.94 2.06-2.06.94zm10 10l.94 2.06.94-2.06 2.06-.94-2.06-.94-.94-2.06-.94 2.06-2.06.94z\"/><path d=\"M17.41 7.96l-1.37-1.37c-.4-.4-.92-.59-1.43-.59-.52 0-1.04.2-1.43.59L10.3 9.45l-7.72 7.72c-.78.78-.78 2.05 0 2.83L4 21.41c.39.39.9.59 1.41.59.51 0 1.02-.2 1.41-.59l7.78-7.78 2.81-2.81c.8-.78.8-2.07 0-2.86zM5.41 20L4 18.59l7.72-7.72 1.47 1.35L5.41 20z\"/>\n",
       "  </svg>\n",
       "      </button>\n",
       "      \n",
       "  <style>\n",
       "    .colab-df-container {\n",
       "      display:flex;\n",
       "      flex-wrap:wrap;\n",
       "      gap: 12px;\n",
       "    }\n",
       "\n",
       "    .colab-df-convert {\n",
       "      background-color: #E8F0FE;\n",
       "      border: none;\n",
       "      border-radius: 50%;\n",
       "      cursor: pointer;\n",
       "      display: none;\n",
       "      fill: #1967D2;\n",
       "      height: 32px;\n",
       "      padding: 0 0 0 0;\n",
       "      width: 32px;\n",
       "    }\n",
       "\n",
       "    .colab-df-convert:hover {\n",
       "      background-color: #E2EBFA;\n",
       "      box-shadow: 0px 1px 2px rgba(60, 64, 67, 0.3), 0px 1px 3px 1px rgba(60, 64, 67, 0.15);\n",
       "      fill: #174EA6;\n",
       "    }\n",
       "\n",
       "    [theme=dark] .colab-df-convert {\n",
       "      background-color: #3B4455;\n",
       "      fill: #D2E3FC;\n",
       "    }\n",
       "\n",
       "    [theme=dark] .colab-df-convert:hover {\n",
       "      background-color: #434B5C;\n",
       "      box-shadow: 0px 1px 3px 1px rgba(0, 0, 0, 0.15);\n",
       "      filter: drop-shadow(0px 1px 2px rgba(0, 0, 0, 0.3));\n",
       "      fill: #FFFFFF;\n",
       "    }\n",
       "  </style>\n",
       "\n",
       "      <script>\n",
       "        const buttonEl =\n",
       "          document.querySelector('#df-c86d644c-4dd3-4423-a3c5-9e11813c4df2 button.colab-df-convert');\n",
       "        buttonEl.style.display =\n",
       "          google.colab.kernel.accessAllowed ? 'block' : 'none';\n",
       "\n",
       "        async function convertToInteractive(key) {\n",
       "          const element = document.querySelector('#df-c86d644c-4dd3-4423-a3c5-9e11813c4df2');\n",
       "          const dataTable =\n",
       "            await google.colab.kernel.invokeFunction('convertToInteractive',\n",
       "                                                     [key], {});\n",
       "          if (!dataTable) return;\n",
       "\n",
       "          const docLinkHtml = 'Like what you see? Visit the ' +\n",
       "            '<a target=\"_blank\" href=https://colab.research.google.com/notebooks/data_table.ipynb>data table notebook</a>'\n",
       "            + ' to learn more about interactive tables.';\n",
       "          element.innerHTML = '';\n",
       "          dataTable['output_type'] = 'display_data';\n",
       "          await google.colab.output.renderOutput(dataTable, element);\n",
       "          const docLink = document.createElement('div');\n",
       "          docLink.innerHTML = docLinkHtml;\n",
       "          element.appendChild(docLink);\n",
       "        }\n",
       "      </script>\n",
       "    </div>\n",
       "  </div>\n",
       "  "
      ],
      "text/plain": [
       "          0         1         2         3         4         5         6  \\\n",
       "0 -0.740044 -0.688385 -1.169786 -0.725875  0.274137 -0.002054 -0.935119   \n",
       "1 -1.051338 -0.896450  0.055362 -0.995317 -1.574400 -0.002054 -0.935119   \n",
       "2 -0.740044  1.141813  0.300391  4.028983 -0.687492  1.030469 -0.444538   \n",
       "3 -0.584397 -0.341611 -1.169786 -1.137963  0.641246 -1.128442 -0.444538   \n",
       "4 -0.273104  1.045486  1.280510 -0.725875  0.803683 -1.222307 -0.935119   \n",
       "\n",
       "   person_home_ownership_OTHER  person_home_ownership_OWN  \\\n",
       "0                            0                          0   \n",
       "1                            0                          1   \n",
       "2                            0                          0   \n",
       "3                            0                          0   \n",
       "4                            0                          0   \n",
       "\n",
       "   person_home_ownership_RENT  ...  loan_grade_B  loan_grade_C  loan_grade_D  \\\n",
       "0                           1  ...             1             0             0   \n",
       "1                           0  ...             0             0             0   \n",
       "2                           0  ...             0             0             0   \n",
       "3                           1  ...             0             1             0   \n",
       "4                           0  ...             0             1             0   \n",
       "\n",
       "   loan_grade_E  loan_grade_F  loan_grade_G  cb_person_default_on_file_Y  \\\n",
       "0             0             0             0                            0   \n",
       "1             0             0             0                            0   \n",
       "2             0             0             0                            0   \n",
       "3             0             0             0                            1   \n",
       "4             0             0             0                            1   \n",
       "\n",
       "   category_income_C  category_income_B  category_income_A  \n",
       "0                  0                  0                  0  \n",
       "1                  0                  0                  0  \n",
       "2                  0                  0                  1  \n",
       "3                  1                  0                  0  \n",
       "4                  0                  0                  1  \n",
       "\n",
       "[5 rows x 25 columns]"
      ]
     },
     "execution_count": 43,
     "metadata": {},
     "output_type": "execute_result"
    }
   ],
   "source": [
    "df_train_features_processed.head(5)"
   ]
  },
  {
   "cell_type": "markdown",
   "metadata": {
    "id": "tCDXG-06y_1d"
   },
   "source": [
    "---\n",
    "<font color=green>Q30:</font>\n",
    "<br><font color='green'>\n",
    "What are the shapes of `df_train_features_processed`, `df_train_targets`, `df_test_features_processed` and `df_test_targets`\n",
    "</font>\n",
    "\n",
    "---"
   ]
  },
  {
   "cell_type": "code",
   "execution_count": null,
   "metadata": {
    "colab": {
     "base_uri": "https://localhost:8080/"
    },
    "id": "tdQSo27SZk8I",
    "outputId": "a62385b1-ac78-4ba0-e785-018df32c859f"
   },
   "outputs": [
    {
     "data": {
      "text/plain": [
       "(22807, 25)"
      ]
     },
     "execution_count": 44,
     "metadata": {},
     "output_type": "execute_result"
    }
   ],
   "source": [
    "df_train_features_processed.shape"
   ]
  },
  {
   "cell_type": "code",
   "execution_count": null,
   "metadata": {
    "colab": {
     "base_uri": "https://localhost:8080/"
    },
    "id": "IRzA3h09ZpuG",
    "outputId": "1921265b-5871-4128-d9ff-415f68b10fcd"
   },
   "outputs": [
    {
     "data": {
      "text/plain": [
       "(22807,)"
      ]
     },
     "execution_count": 45,
     "metadata": {},
     "output_type": "execute_result"
    }
   ],
   "source": [
    "df_train_targets.shape"
   ]
  },
  {
   "cell_type": "code",
   "execution_count": null,
   "metadata": {
    "colab": {
     "base_uri": "https://localhost:8080/"
    },
    "id": "8CJaK-b2ZsYG",
    "outputId": "56d0f856-33d5-472f-f6d2-b71e258b32ca"
   },
   "outputs": [
    {
     "data": {
      "text/plain": [
       "(9774, 25)"
      ]
     },
     "execution_count": 46,
     "metadata": {},
     "output_type": "execute_result"
    }
   ],
   "source": [
    "df_test_features_processed.shape"
   ]
  },
  {
   "cell_type": "code",
   "execution_count": null,
   "metadata": {
    "colab": {
     "base_uri": "https://localhost:8080/"
    },
    "id": "OfE6GvSqZuRu",
    "outputId": "9f5e5420-282f-4ea0-c32b-1b1cc93f90f4"
   },
   "outputs": [
    {
     "data": {
      "text/plain": [
       "(9774,)"
      ]
     },
     "execution_count": 47,
     "metadata": {},
     "output_type": "execute_result"
    }
   ],
   "source": [
    "df_test_targets.shape"
   ]
  },
  {
   "cell_type": "markdown",
   "metadata": {
    "id": "r0jQhvMOzQc6"
   },
   "source": [
    "---\n",
    "<font color=green>Q31:</font>\n",
    "<br><font color='green'>\n",
    "Convert the aforementioned dataframes into `numpy` arrays to get `X_train`, `X_test`, `y_train`, `y_test`.\n",
    "</font>\n",
    "\n",
    "---"
   ]
  },
  {
   "cell_type": "code",
   "execution_count": null,
   "metadata": {
    "id": "uUcsTKW9drT8"
   },
   "outputs": [],
   "source": [
    "X_train = df_train_features_processed.values\n",
    "X_test = df_test_features_processed.values\n",
    "\n",
    "y_train = df_train_targets.values\n",
    "y_test = df_test_targets.values"
   ]
  },
  {
   "cell_type": "markdown",
   "metadata": {
    "id": "QgibaIZ2Z3hS"
   },
   "source": [
    "# 4. Fine Tuning a Supervised Model"
   ]
  },
  {
   "cell_type": "markdown",
   "metadata": {
    "id": "cnZyF17Fqf-1"
   },
   "source": [
    "### 4.1 Evaluation Metrics"
   ]
  },
  {
   "cell_type": "markdown",
   "metadata": {
    "id": "TqFyLtbVCjjz"
   },
   "source": [
    "First, let's start by a review of the different evaluation metrics"
   ]
  },
  {
   "cell_type": "markdown",
   "metadata": {
    "id": "E_AGwagKn0e9"
   },
   "source": [
    "<center><img width=\"700\" src = \"https://drive.google.com/uc?export=view&id=1SbB_CEcOCblu1sUwzGAOwn5oQRQGEQxS\"></center>"
   ]
  },
  {
   "cell_type": "markdown",
   "metadata": {
    "id": "XI52SFn-DXPT"
   },
   "source": [
    "The F1 score is calculated as follows: \n",
    "\n",
    "$$\n",
    "\\text{F1} = 2 \\frac{\\text{precision} \\times \\text{recall}}{\\text{precision} + \\text{recall}}\n",
    "$$"
   ]
  },
  {
   "cell_type": "markdown",
   "metadata": {
    "id": "Wgy9TGSUULA8"
   },
   "source": [
    "---\n",
    "<font color=green>Q32:</font>\n",
    "<br><font color='green'>\n",
    "What is the distribution of the targets `loan_status` ?\n",
    "</font>\n",
    "\n",
    "---"
   ]
  },
  {
   "cell_type": "code",
   "execution_count": null,
   "metadata": {
    "colab": {
     "base_uri": "https://localhost:8080/",
     "height": 390
    },
    "id": "aAwSrukeZwAd",
    "outputId": "51c202a9-44e6-4ba0-fd35-c36424b7502f"
   },
   "outputs": [
    {
     "data": {
      "image/png": "[encoded data removed]",
      "text/plain": [
       "<Figure size 720x432 with 1 Axes>"
      ]
     },
     "metadata": {},
     "output_type": "display_data"
    }
   ],
   "source": [
    "df[\"loan_status\"].hist(figsize=(10, 6))\n",
    "plt.title(\"Target Distribution\")\n",
    "plt.show()"
   ]
  },
  {
   "cell_type": "markdown",
   "metadata": {
    "id": "2_I9bQfoTOvr"
   },
   "source": [
    "---\n",
    "<font color=green>Q33:</font>\n",
    "<br><font color='green'>\n",
    "Which of the two errors is the most dangerous one for the credit problem ? \n",
    "</font>\n",
    "\n",
    "---"
   ]
  },
  {
   "cell_type": "markdown",
   "metadata": {
    "id": "XP5hlWpyI6ba"
   },
   "source": [
    "---\n",
    "The dataset is imbalanced, we should avoid optimizing the **accuracy score**.\n",
    "\n",
    "The worst error is to predict a negative class (no default) to a sample that is actually in the positive class (i.e default). \n",
    "\n",
    "Therefore, the metric we should optimize is the recall.\n",
    "\n",
    "---"
   ]
  },
  {
   "cell_type": "markdown",
   "metadata": {
    "id": "lT12yVe6EqWs"
   },
   "source": [
    "A brief review of Cross Validation:"
   ]
  },
  {
   "cell_type": "markdown",
   "metadata": {
    "id": "wKjV2yyvn5Rm"
   },
   "source": [
    "<center><img width=\"700\" src = \"https://drive.google.com/uc?export=view&id=1TQfP49ZaOoAq4Egt0NuIsWYLHb8Maris\"></center>"
   ]
  },
  {
   "cell_type": "markdown",
   "metadata": {
    "id": "ar0NjqfhS1sl"
   },
   "source": [
    "---\n",
    "<font color=green>Q34:</font>\n",
    "<br><font color='green'>\n",
    "Using `cross_val_score` from `sklearn.model_selection`, write a function that takes as inputs the **classifier**, the **training features** and the **training targets**. The function should output the distribution (the mean and the std) of the following performance measures using cross validation (with K=5). \n",
    "\n",
    "* Presicion\n",
    "* Recall\n",
    "* f1 score\n",
    "* auc\n",
    "* accuracy\n",
    "</font>\n",
    "\n",
    "---"
   ]
  },
  {
   "cell_type": "code",
   "execution_count": null,
   "metadata": {
    "id": "2DF2RbgZqgwq"
   },
   "outputs": [],
   "source": [
    "# Import module \n",
    "from sklearn.model_selection import cross_val_score\n",
    "# Cross Validation to test and anticipate overfitting problem\n",
    "def crossvalidate(clf, X, y):\n",
    "    precision = cross_val_score(clf, X, y, cv=5, scoring='precision')\n",
    "    recall = cross_val_score(clf, X, y, cv=5, scoring='recall')\n",
    "    f1 = cross_val_score(clf, X, y, cv=5, scoring='f1')\n",
    "    roc_auc = cross_val_score(clf, X, y, cv=5, scoring='roc_auc')\n",
    "    accuracy = cross_val_score(clf, X, y, cv=5, scoring='accuracy')\n",
    "    # The mean score and standard deviation of the score estimate\n",
    "    print(\"Cross Validation Precision: %0.2f (+/- %0.2f)\" % (precision.mean(), precision.std()))\n",
    "    print(\"Cross Validation Recall: %0.2f (+/- %0.2f)\" % (recall.mean(), recall.std()))\n",
    "    print(\"Cross Validation f1 score: %0.2f (+/- %0.2f)\" % (f1.mean(), f1.std()))\n",
    "    print(\"Cross Validation roc_auc: %0.2f (+/- %0.2f)\" % (roc_auc.mean(), roc_auc.std()))\n",
    "    print(\"Cross Validation Accuracy: %0.2f (+/- %0.2f)\" % (accuracy.mean(), accuracy.std()))"
   ]
  },
  {
   "cell_type": "markdown",
   "metadata": {
    "id": "7_EpgllZS2VM"
   },
   "source": [
    "---\n",
    "<font color=green>Q35:</font>\n",
    "<br><font color='green'>\n",
    "Using `confusion_matrix` from `sklearn.metrics`, write a function that takes as inputs `y_test` and `y_hat` (vector of 0-1). The function should output a plot of the confusion matrix on the test set. \n",
    "</font>\n",
    "\n",
    "---"
   ]
  },
  {
   "cell_type": "code",
   "execution_count": null,
   "metadata": {
    "id": "KNO3MNZCEH-S"
   },
   "outputs": [],
   "source": [
    "# Import module\n",
    "from sklearn.metrics import confusion_matrix\n",
    "\n",
    "def plot_confusion_matrix(y_test, y_hat):\n",
    "  fig = plt.figure(figsize=(10, 8))\n",
    "  g = sns.heatmap(confusion_matrix(y_test, y_hat),\n",
    "              annot=True,\n",
    "              fmt=\"0.0f\")\n",
    "  g.set_xlabel(\"Predicted\")\n",
    "  g.set_ylabel(\"Actual\")\n",
    "  g.set_title(\"Confusion Matrix on the test set\")\n",
    "  plt.show()\n",
    "\n"
   ]
  },
  {
   "cell_type": "markdown",
   "metadata": {
    "id": "yE0io5hzEIZg"
   },
   "source": [
    "### 4.2 Fine Tuning Random Forest"
   ]
  },
  {
   "cell_type": "markdown",
   "metadata": {
    "id": "2yIxy4ceGdd2"
   },
   "source": [
    "Brief review of Hyperparameters Optimization:"
   ]
  },
  {
   "cell_type": "markdown",
   "metadata": {
    "id": "jMnPGEN44eW-"
   },
   "source": [
    "<center><img width=“700\" src = \"https://drive.google.com/uc?export=view&id=1j93wPCK9TyV0oi_kj-UhijNJTLafH4fa\"></center>"
   ]
  },
  {
   "cell_type": "markdown",
   "metadata": {
    "id": "dNxhnSU8433V"
   },
   "source": [
    "We would like to tune the following hyperparameters:"
   ]
  },
  {
   "cell_type": "markdown",
   "metadata": {
    "id": "RRMnb0Qqhxti"
   },
   "source": [
    "* n_estimators = number of trees in the foreset\n",
    "* max_features = max number of features considered for splitting a node\n",
    "* max_depth = max number of levels in each decision tree\n",
    "* bootstrap = method for sampling data points (with or without replacement)"
   ]
  },
  {
   "cell_type": "markdown",
   "metadata": {
    "id": "c2XUCIvy5GEd"
   },
   "source": [
    "---\n",
    "<font color=green>Q36:</font>\n",
    "<br><font color='green'>\n",
    "Define a dictionary called `random_grid` which maps each of the hyperparameters to a list of possibilities. Example:\n",
    "* \"n_estimators\" : [200, 400, 600, 800, 1000, 1200, 1400, 1600, 1800, 2000]\n",
    "* \"max_features\" : [\"auto\", \"sqrt\"]\n",
    "* \"max_depth\" : [10, 20, 30, 40, 50, 60, 70, 80, 90, 100, None]\n",
    "* \"bootstrap\" : [True, False]\n",
    "</font>\n",
    "\n",
    "---"
   ]
  },
  {
   "cell_type": "code",
   "execution_count": null,
   "metadata": {
    "colab": {
     "base_uri": "https://localhost:8080/"
    },
    "id": "R5j3TIu65hQR",
    "outputId": "7053bdc7-7f1a-4af6-98a2-c6fb903c690e"
   },
   "outputs": [
    {
     "data": {
      "text/plain": [
       "[10, 20, 30, 40, 50, 60, 70, 80, 90, 100, 110]"
      ]
     },
     "execution_count": 152,
     "metadata": {},
     "output_type": "execute_result"
    }
   ],
   "source": [
    "[int(x) for x in np.linspace(10, 110, num = 11)]"
   ]
  },
  {
   "cell_type": "code",
   "execution_count": null,
   "metadata": {
    "colab": {
     "base_uri": "https://localhost:8080/"
    },
    "id": "hC2yc4U6iB4h",
    "outputId": "7d0b7008-c71d-4ff5-e514-8f211f2fa601"
   },
   "outputs": [
    {
     "name": "stdout",
     "output_type": "stream",
     "text": [
      "{'bootstrap': [True, False],\n",
      " 'max_depth': [10, 35, 60, 85, 110, None],\n",
      " 'max_features': ['auto', 'sqrt'],\n",
      " 'n_estimators': [200, 250, 300, 350, 400]}\n"
     ]
    }
   ],
   "source": [
    "from pprint import pprint\n",
    "# Number of trees in random forest\n",
    "n_estimators = [int(x) for x in np.linspace(start = 200, stop = 400, num = 5)]\n",
    "# Number of features to consider at every split\n",
    "max_features = ['auto', 'sqrt']\n",
    "# Maximum number of levels in tree\n",
    "max_depth = [int(x) for x in np.linspace(10, 110, num = 5)]\n",
    "max_depth.append(None)\n",
    "# Method of selecting samples for training each tree\n",
    "bootstrap = [True, False]\n",
    "# Create the random grid\n",
    "random_grid = {'n_estimators': n_estimators,\n",
    "               'max_features': max_features,\n",
    "               'max_depth': max_depth,\n",
    "               'bootstrap': bootstrap}\n",
    "pprint(random_grid)"
   ]
  },
  {
   "cell_type": "markdown",
   "metadata": {
    "id": "mRraxon3S29_"
   },
   "source": [
    "---\n",
    "<font color=green>Q37:</font>\n",
    "<br><font color='green'>\n",
    "Using `RandomizedSearchCV` from `sklearn.model_selection` and `RandomForestClassifier` from `sklearn.ensemble`, find the best combination of hyperparameters among 20 possibilities.\n",
    "\n",
    "</font>\n",
    "\n",
    "---"
   ]
  },
  {
   "cell_type": "code",
   "execution_count": null,
   "metadata": {
    "id": "0UiWWQbRhiwU"
   },
   "outputs": [],
   "source": [
    "# Import Modules \n",
    "from sklearn.ensemble import RandomForestClassifier\n",
    "from sklearn.model_selection import RandomizedSearchCV"
   ]
  },
  {
   "cell_type": "code",
   "execution_count": null,
   "metadata": {
    "colab": {
     "base_uri": "https://localhost:8080/"
    },
    "id": "ejs_VZ1tiCAg",
    "outputId": "fb08164d-94f2-48e7-e584-213231f3ceb3"
   },
   "outputs": [
    {
     "name": "stdout",
     "output_type": "stream",
     "text": [
      "Fitting 3 folds for each of 5 candidates, totalling 15 fits\n"
     ]
    },
    {
     "data": {
      "text/plain": [
       "RandomizedSearchCV(cv=3, estimator=RandomForestClassifier(random_state=42),\n",
       "                   n_iter=5, n_jobs=-1,\n",
       "                   param_distributions={'bootstrap': [True, False],\n",
       "                                        'max_depth': [10, 35, 60, 85, 110,\n",
       "                                                      None],\n",
       "                                        'max_features': ['auto', 'sqrt'],\n",
       "                                        'n_estimators': [200, 250, 300, 350,\n",
       "                                                         400]},\n",
       "                   random_state=42, verbose=2)"
      ]
     },
     "execution_count": 61,
     "metadata": {},
     "output_type": "execute_result"
    }
   ],
   "source": [
    "# Use the random grid to search for best hyperparameters\n",
    "# First create the base model to tune\n",
    "model_rf = RandomForestClassifier(random_state=42)\n",
    "# Random search of parameters, using 3 fold cross validation, \n",
    "# search across 100 different combinations, and use all available cores\n",
    "rf_random = RandomizedSearchCV(estimator = model_rf, \n",
    "                               param_distributions = random_grid, \n",
    "                               n_iter = 5, \n",
    "                               cv = 3, \n",
    "                               verbose=2, \n",
    "                               scoring=\"f1\",\n",
    "                               random_state=42, \n",
    "                               n_jobs = -1)\n",
    "# Fit the random search model\n",
    "rf_random.fit(X_train, y_train)"
   ]
  },
  {
   "cell_type": "markdown",
   "metadata": {
    "id": "HcI36gLQ7dNC"
   },
   "source": [
    "---\n",
    "<font color=green>Q38:</font>\n",
    "<br><font color='green'>\n",
    "What are the hyperparameters of the best model `rf_best`?\n",
    "\n",
    "</font>\n",
    "\n",
    "---"
   ]
  },
  {
   "cell_type": "code",
   "execution_count": null,
   "metadata": {
    "colab": {
     "base_uri": "https://localhost:8080/"
    },
    "id": "JRIENzI8oyoR",
    "outputId": "c2d5cb65-9b9c-460a-c66b-f40f1fa46589"
   },
   "outputs": [
    {
     "data": {
      "text/plain": [
       "RandomForestClassifier(max_features='sqrt', n_estimators=200, random_state=42)"
      ]
     },
     "execution_count": 62,
     "metadata": {},
     "output_type": "execute_result"
    }
   ],
   "source": [
    "rf_random.best_estimator_"
   ]
  },
  {
   "cell_type": "code",
   "execution_count": null,
   "metadata": {
    "id": "ltL5deQkomB9"
   },
   "outputs": [],
   "source": [
    "rf_best = rf_random.best_estimator_"
   ]
  },
  {
   "cell_type": "markdown",
   "metadata": {
    "id": "YLJvPm_LS7gs"
   },
   "source": [
    "---\n",
    "<font color=green>Q39:</font>\n",
    "<br><font color='green'>\n",
    "Using `classification_report` from `sklearn.metrics`, display the different performance measures and the confusion matrix for the \"optimal\" model `rf_best`. \n",
    "</font>\n",
    "\n",
    "---"
   ]
  },
  {
   "cell_type": "code",
   "execution_count": null,
   "metadata": {
    "colab": {
     "base_uri": "https://localhost:8080/",
     "height": 669
    },
    "id": "gHGOzqRoEJZk",
    "outputId": "96becc71-f46f-418c-a6f1-cab54dd29953"
   },
   "outputs": [
    {
     "name": "stdout",
     "output_type": "stream",
     "text": [
      "              precision    recall  f1-score   support\n",
      "\n",
      "           0       0.93      0.99      0.96      7680\n",
      "           1       0.96      0.72      0.82      2094\n",
      "\n",
      "    accuracy                           0.93      9774\n",
      "   macro avg       0.94      0.86      0.89      9774\n",
      "weighted avg       0.94      0.93      0.93      9774\n",
      "\n"
     ]
    },
    {
     "data": {
      "image/png": "[encoded data removed]",
      "text/plain": [
       "<Figure size 720x576 with 2 Axes>"
      ]
     },
     "metadata": {},
     "output_type": "display_data"
    }
   ],
   "source": [
    "# Evaluation performances\n",
    "from sklearn.metrics import classification_report\n",
    "y_hat = rf_best.predict(X_test)\n",
    "print(classification_report(y_test, y_hat))\n",
    "# Confusion Matrix\n",
    "plot_confusion_matrix(y_test, y_hat)"
   ]
  },
  {
   "cell_type": "markdown",
   "metadata": {
    "id": "5BKVilJLgUDi"
   },
   "source": [
    "# 5. Adjusting the threshold"
   ]
  },
  {
   "cell_type": "markdown",
   "metadata": {
    "id": "b-zNPArGT0cN"
   },
   "source": [
    "### 5.1 A small review"
   ]
  },
  {
   "cell_type": "markdown",
   "metadata": {
    "id": "2cYdqd6u4WXs"
   },
   "source": [
    "\n",
    "\n",
    "As explained in Lecture 1, the AUC is defined as the area under the curve, i.e, the area between the curve and the x-axis. \n",
    "\n",
    "* Let us consider a dataset $\\mathcal{S} = \\{ (x_1, y_1), \\dots, (x_n, y_n) \\}$ where $\\forall i \\in \\{1, \\dots, n\\} \\quad x_i \\in \\mathbb{R}^d, \\ y_i \\in \\{0, 1\\} \\}$\n",
    "\n",
    "* A classification algorithm (like Random Forest), trained on $\\mathcal{S}$, maps each new obersvation $x^* \\in \\mathbb{R}^d$ to a score $\\hat{p}(x^*) \\in [0, 1]$ signifying the algorithm's confidence that the label of $x^*$ is $y^* = 1$. \n",
    "\n",
    "\n",
    "* Let us split the training feature vectors  $\\{(x_i)\\}_{1 \\leq i \\leq n}$ into two groups:\n",
    "  * A group $\\mathcal{G}_+$ of feature vectors associated with the positive label.  \n",
    "  * A group $\\mathcal{G}_-$ of feature vectors associated with the negative label.\n",
    "\n",
    "* We can then represent two distribution of scores: \n",
    "  * A distribution of the scores $\\hat{p}(x)$ for each $x \\in \\mathcal{G}_+$ \n",
    "  * A distribution of the scores $\\hat{p}(x)$ for each $x \\in \\mathcal{G}_-$ \n",
    "\n",
    "* The figure below summarizes the process described. \n",
    "\n",
    "<center><img width=\"700\" src = \"https://drive.google.com/uc?export=view&id=17AynSe1QDaiZR-_9FpVQMfOzKRdR_Lfi\"></center>\n",
    "\n",
    "* Let us represent the two distributions in one figure: \n",
    "\n",
    "<center><img width=\"700\" src = \"https://drive.google.com/uc?export=view&id=1tKSqfs1ITKikr8F4oaRSs6t2HLN0hIIf\"></center>\n",
    "\n",
    "\n",
    "* The **AUC** can be interpreted as a measure of the quality of seperation between the aforementioned distributions. \n",
    "\n",
    "* Mathematically speaking, the **AUC** gives the probability that the classifier gives a higher score to a positive sample than to a negative sample. (you can read the proof in the [optional reading](https://colab.research.google.com/drive/1gcbB3-3Y6AfohDFJYKmFPF2G-4EIPDTi?usp=sharing)). "
   ]
  },
  {
   "cell_type": "markdown",
   "metadata": {
    "id": "W6RjPADksjRE"
   },
   "source": [
    "\n",
    "\n",
    "\n",
    "* The method `rf_best.predict_proba()` maps each element $x$ to a prediction (or a score) $p(x) \\in [0, 1]$ reflecting the confidence of the classifier in assigning the target $y=1$ to the feature vector $x$. \n",
    "\n",
    "\n",
    "<center><img width=“500\" src = \"https://drive.google.com/uc?export=view&id=1znqNbk_1GLWeTgxf3PU0HcGg1r1L-uLo\"></center>\n",
    "\n",
    "\n",
    "* In order to convert the continuous prediciton $p(x)$ into a binary prediction $\\hat{y} \\in \\{0, 1 \\}$, we need to choose a **threshold** above which we assign the positive label.\n",
    "\n",
    "* The default threshold is 0.5 and the method used to map $x$ to a binary output with this default threshold 0.5 is `rf_best.predict()`"
   ]
  },
  {
   "cell_type": "markdown",
   "metadata": {
    "id": "aOhuR142XmPA"
   },
   "source": [
    "### 5.2 Adjusting the probability threshold"
   ]
  },
  {
   "cell_type": "markdown",
   "metadata": {
    "id": "BNOgptF099ta"
   },
   "source": [
    "**Our objective in this section is to adjust the threshold in order to match a desired recall**"
   ]
  },
  {
   "cell_type": "markdown",
   "metadata": {
    "id": "lqjBuXr8XuNJ"
   },
   "source": [
    "In order to plot the ROC curve, you will have to install `plot_metric` using the following command line:\n",
    "\n",
    "```\n",
    "!pip install plot_metric\n",
    "```"
   ]
  },
  {
   "cell_type": "code",
   "execution_count": null,
   "metadata": {
    "colab": {
     "base_uri": "https://localhost:8080/"
    },
    "id": "V0SI38AGELzU",
    "outputId": "022942c1-4820-40b2-a338-a32ee9f538fe"
   },
   "outputs": [
    {
     "name": "stdout",
     "output_type": "stream",
     "text": [
      "Requirement already satisfied: plot_metric in /usr/local/lib/python3.7/dist-packages (0.0.6)\n",
      "Requirement already satisfied: matplotlib>=3.0.2 in /usr/local/lib/python3.7/dist-packages (from plot_metric) (3.2.2)\n",
      "Requirement already satisfied: scikit-learn>=0.21.2 in /usr/local/lib/python3.7/dist-packages (from plot_metric) (1.0.2)\n",
      "Requirement already satisfied: seaborn>=0.9.0 in /usr/local/lib/python3.7/dist-packages (from plot_metric) (0.11.2)\n",
      "Requirement already satisfied: colorlover>=0.3.0 in /usr/local/lib/python3.7/dist-packages (from plot_metric) (0.3.0)\n",
      "Requirement already satisfied: scipy>=1.1.0 in /usr/local/lib/python3.7/dist-packages (from plot_metric) (1.4.1)\n",
      "Requirement already satisfied: numpy>=1.15.4 in /usr/local/lib/python3.7/dist-packages (from plot_metric) (1.21.6)\n",
      "Requirement already satisfied: pandas>=0.23.4 in /usr/local/lib/python3.7/dist-packages (from plot_metric) (1.3.5)\n",
      "Requirement already satisfied: kiwisolver>=1.0.1 in /usr/local/lib/python3.7/dist-packages (from matplotlib>=3.0.2->plot_metric) (1.4.2)\n",
      "Requirement already satisfied: pyparsing!=2.0.4,!=2.1.2,!=2.1.6,>=2.0.1 in /usr/local/lib/python3.7/dist-packages (from matplotlib>=3.0.2->plot_metric) (3.0.8)\n",
      "Requirement already satisfied: python-dateutil>=2.1 in /usr/local/lib/python3.7/dist-packages (from matplotlib>=3.0.2->plot_metric) (2.8.2)\n",
      "Requirement already satisfied: cycler>=0.10 in /usr/local/lib/python3.7/dist-packages (from matplotlib>=3.0.2->plot_metric) (0.11.0)\n",
      "Requirement already satisfied: typing-extensions in /usr/local/lib/python3.7/dist-packages (from kiwisolver>=1.0.1->matplotlib>=3.0.2->plot_metric) (4.2.0)\n",
      "Requirement already satisfied: pytz>=2017.3 in /usr/local/lib/python3.7/dist-packages (from pandas>=0.23.4->plot_metric) (2022.1)\n",
      "Requirement already satisfied: six>=1.5 in /usr/local/lib/python3.7/dist-packages (from python-dateutil>=2.1->matplotlib>=3.0.2->plot_metric) (1.15.0)\n",
      "Requirement already satisfied: joblib>=0.11 in /usr/local/lib/python3.7/dist-packages (from scikit-learn>=0.21.2->plot_metric) (1.1.0)\n",
      "Requirement already satisfied: threadpoolctl>=2.0.0 in /usr/local/lib/python3.7/dist-packages (from scikit-learn>=0.21.2->plot_metric) (3.1.0)\n"
     ]
    }
   ],
   "source": [
    "!pip install plot_metric"
   ]
  },
  {
   "cell_type": "markdown",
   "metadata": {
    "id": "S3cTp0iiYCyl"
   },
   "source": [
    "---\n",
    "<font color=green>Q40:</font>\n",
    "<br><font color='green'>\n",
    "Plot the ROC curve of the best model `rf_best` using `BinaryClassification` from `plot_metric.functions`\n",
    "</font>\n",
    "\n",
    "---\n"
   ]
  },
  {
   "cell_type": "code",
   "execution_count": null,
   "metadata": {
    "colab": {
     "base_uri": "https://localhost:8080/",
     "height": 404
    },
    "id": "qVv7L7lYEL9A",
    "outputId": "e58d8833-f2cb-4cbb-f314-4231101f6031"
   },
   "outputs": [
    {
     "data": {
      "image/png": "[encoded data removed]",
      "text/plain": [
       "<Figure size 720x432 with 1 Axes>"
      ]
     },
     "metadata": {},
     "output_type": "display_data"
    }
   ],
   "source": [
    "# Import module\n",
    "from plot_metric.functions import BinaryClassification\n",
    "\n",
    "# Plot the ROC curve\n",
    "bc = BinaryClassification(y_test, rf_best.predict_proba(X_test)[:, 1], labels=[0, 1])\n",
    "plt.figure(figsize=(10, 6))\n",
    "bc.plot_roc_curve()\n",
    "plt.show()"
   ]
  },
  {
   "cell_type": "code",
   "execution_count": null,
   "metadata": {
    "colab": {
     "base_uri": "https://localhost:8080/"
    },
    "id": "RfMj-PDixqKz",
    "outputId": "0d9c418a-c0ab-4d6a-d93c-c659725db993"
   },
   "outputs": [
    {
     "name": "stdout",
     "output_type": "stream",
     "text": [
      "              precision    recall  f1-score   support\n",
      "\n",
      "           0       0.93      0.99      0.96      7680\n",
      "           1       0.96      0.72      0.82      2094\n",
      "\n",
      "    accuracy                           0.93      9774\n",
      "   macro avg       0.94      0.86      0.89      9774\n",
      "weighted avg       0.94      0.93      0.93      9774\n",
      "\n"
     ]
    }
   ],
   "source": [
    "from sklearn.metrics import classification_report\n",
    "y_hat = rf_best.predict(X_test)\n",
    "print(classification_report(y_test, y_hat))"
   ]
  },
  {
   "cell_type": "markdown",
   "metadata": {
    "id": "UEiL6Id-ZCaa"
   },
   "source": [
    "---\n",
    "<font color=green>Q41:</font>\n",
    "<br><font color='green'>\n",
    "Let us fix an objective recall of 0.8. By decreasing the threshold progressively from 1 to 0, determine the maximum threshold for which we can have a recall of 0.8, called `best_threshold`\n",
    "</font>\n",
    "\n",
    "---\n"
   ]
  },
  {
   "cell_type": "code",
   "execution_count": null,
   "metadata": {
    "colab": {
     "base_uri": "https://localhost:8080/"
    },
    "id": "srCThYfBEL_m",
    "outputId": "534de307-b298-4411-e206-ba4e5e118248"
   },
   "outputs": [
    {
     "name": "stdout",
     "output_type": "stream",
     "text": [
      "The best Threshold is 0.27...The best recall is 0.8013371537726839\n"
     ]
    }
   ],
   "source": [
    "# Let us find the threshold with the highest recall\n",
    "from sklearn.metrics import recall_score\n",
    "# Calculate the prediction scores y_hat_proba associated with X_test\n",
    "y_hat_proba = rf_best.predict_proba(X_test)[:, 1]\n",
    "\n",
    "# The objective recall\n",
    "OBJECTIVE_RECALL = 0.8\n",
    "\n",
    "# Initialize the best threshold to 0.5\n",
    "best_threshold = 0.5\n",
    "# Calculate the binary prediction y_hat associated with the threshold 0.5\n",
    "y_hat = (y_hat_proba > best_threshold)\n",
    "# Calculate the recall associated with the threshold 0.5\n",
    "best_recall = recall_score(y_test, y_hat)\n",
    "\n",
    "# Find the best threshold \n",
    "for th in np.arange(0.01, 1, 0.01)[::-1]:\n",
    "  # Calculate the binary prediction y_hat associated with the threshold th\n",
    "  y_pred = (y_hat_proba > th)\n",
    "  recall = recall_score(y_test, y_pred)\n",
    "  if recall > OBJECTIVE_RECALL:\n",
    "    best_recall = recall\n",
    "    best_threshold = th\n",
    "    break\n",
    "print(\"The best Threshold is {}...The best recall is {}\".format(best_threshold, best_recall))"
   ]
  },
  {
   "cell_type": "markdown",
   "metadata": {
    "id": "hrMLrgRca6pK"
   },
   "source": [
    "---\n",
    "<font color=green>Q42:</font>\n",
    "<br><font color='green'>\n",
    "Plot the ROC curve and show the point with the coordinated (FPR(best_threshold), TPR(best_treshold)). \n",
    "</font>\n",
    "\n",
    "---"
   ]
  },
  {
   "cell_type": "code",
   "execution_count": null,
   "metadata": {
    "colab": {
     "base_uri": "https://localhost:8080/",
     "height": 404
    },
    "id": "iYuTmBudEMRO",
    "outputId": "60ce1e23-dffe-4b9c-821e-bba93778d428"
   },
   "outputs": [
    {
     "data": {
      "image/png": "[encoded data removed]",
      "text/plain": [
       "<Figure size 720x432 with 1 Axes>"
      ]
     },
     "metadata": {},
     "output_type": "display_data"
    }
   ],
   "source": [
    "# let's use another probability threshold so that we can get to the elbow position in the above curve\n",
    "bc = BinaryClassification(y_test, rf_best.predict_proba(X_test)[:, 1], threshold=best_threshold, labels = [0, 1])\n",
    "plt.figure(figsize=(10, 6))\n",
    "bc.plot_roc_curve()\n",
    "plt.show()"
   ]
  },
  {
   "cell_type": "markdown",
   "metadata": {
    "id": "VYkh4XzJbxXR"
   },
   "source": [
    "---\n",
    "<font color=green>Q43:</font>\n",
    "<br><font color='green'>\n",
    "Plot the confusion matrix associated with `best_threshold`\n",
    "</font>\n",
    "\n",
    "---\n"
   ]
  },
  {
   "cell_type": "code",
   "execution_count": null,
   "metadata": {
    "id": "rKY68pOZCfmu"
   },
   "outputs": [],
   "source": [
    "# Calculate the prediction scores y_hat_proba associated with X_test\n",
    "y_hat_proba = rf_best.predict_proba(X_test)[:, 1]"
   ]
  },
  {
   "cell_type": "code",
   "execution_count": null,
   "metadata": {
    "id": "ZcXHq2biCn3D"
   },
   "outputs": [],
   "source": [
    "# Calculate the binary prediction y_hat associated with the threshold th\n",
    "y_hat = (y_hat_proba >= best_threshold)"
   ]
  },
  {
   "cell_type": "code",
   "execution_count": null,
   "metadata": {
    "colab": {
     "base_uri": "https://localhost:8080/",
     "height": 513
    },
    "id": "745o8G5DCprX",
    "outputId": "78a8275d-410a-4647-8884-34cd51321d59"
   },
   "outputs": [
    {
     "data": {
      "image/png": "[encoded data removed]",
      "text/plain": [
       "<Figure size 720x576 with 2 Axes>"
      ]
     },
     "metadata": {},
     "output_type": "display_data"
    }
   ],
   "source": [
    "# plot the confusion matrix\n",
    "fig = plt.figure(figsize=(10, 8))\n",
    "g = sns.heatmap(confusion_matrix(y_test, y_hat),\n",
    "            annot=True,\n",
    "            fmt=\"0.0f\")\n",
    "g.set_xlabel(\"Predicted\")\n",
    "g.set_ylabel(\"Actual\")\n",
    "g.set_title(\"Confusion Matrix on the test set\")\n",
    "plt.show()"
   ]
  },
  {
   "cell_type": "markdown",
   "metadata": {
    "id": "pC-uzZdSAVIw"
   },
   "source": [
    "---\n",
    "<font color=green>Q44:</font>\n",
    "<br><font color='green'>\n",
    "Print the evaluation metrics associated with `best_threshold`\n",
    "</font>\n",
    "\n",
    "---\n",
    " "
   ]
  },
  {
   "cell_type": "code",
   "execution_count": null,
   "metadata": {
    "colab": {
     "base_uri": "https://localhost:8080/"
    },
    "id": "uvQ4-LDJCrGz",
    "outputId": "1a61a1e3-661f-4170-8d41-1ae3040dc21d"
   },
   "outputs": [
    {
     "name": "stdout",
     "output_type": "stream",
     "text": [
      "              precision    recall  f1-score   support\n",
      "\n",
      "           0       0.95      0.93      0.94      7680\n",
      "           1       0.76      0.80      0.78      2094\n",
      "\n",
      "    accuracy                           0.90      9774\n",
      "   macro avg       0.85      0.87      0.86      9774\n",
      "weighted avg       0.91      0.90      0.91      9774\n",
      "\n"
     ]
    }
   ],
   "source": [
    "# print the classification report\n",
    "from sklearn.metrics import classification_report\n",
    "print(classification_report(y_test, y_hat))"
   ]
  },
  {
   "cell_type": "markdown",
   "metadata": {
    "id": "yuT132sYIjln"
   },
   "source": [
    "# Wrap-up\n",
    "\n",
    "During this session we learned:\n",
    "* How to load and visualize a dataset.\n",
    "* How to process categorical and numerical features.\n",
    "* What are the most suitable evaluation metrics in the case of an imbalanced dataset, especially the recall and the AUC.\n",
    "* How to adjust the probability threshold so that it matches the objective error of a business problem."
   ]
  },
  {
   "cell_type": "markdown",
   "metadata": {
    "id": "U67-gm73Tonn"
   },
   "source": [
    "# Optional Exercise: Resampling techniques"
   ]
  },
  {
   "cell_type": "markdown",
   "metadata": {
    "id": "7-m0stpT2Iaj"
   },
   "source": [
    "* The main problem when we train a model using an imbalanced dataset is that it results in a biased classifier towards the majority class. \n",
    "\n",
    "* There are two ways to overcome this bias problem:\n",
    "  * **Undersampling**: In this case, we randomly select as many observations of the majority class $\\mathcal{G}_-$ as we have for the minority class $\\mathcal{G}_+$. (See figure below)\n",
    "  \n",
    "  <center><img width=“500\" src = \"https://drive.google.com/uc?export=view&id=106_U8l014dk7LybyoPpUEiLlABfeWbhZ\"></center>\n",
    "\n",
    "  * **Oversampling**: In this case, we prefer to have more elements from the minority class $\\mathcal{G}_+$. Hence, we either create duplicates of the minority class or create synthetic datapoints so that we reach $|\\mathcal{G}_-|$ samples (where $|F|$ denotes the number of elements of $F$). One way of creating synthetic data points is called the **SMOTE** (Synthetic Minority Oversampling Technique). The method is described in [Synthetic Minority Over-sampling Technique](https://arxiv.org/pdf/1106.1813.pdf) and can be summarized as follows:\n",
    "    * First, a random example $x_1$ is chosed from the minority class $\\mathcal{G}_+$. \n",
    "    * Then, we find the k nearest neighbors for that example (typically $k=5$).\n",
    "    * We randomly select one of these k neighbors, let's call it $x_2$.\n",
    "    * The synthetic instances are generated as a convex combination of the two instances $x_1$ and $x_2$. \n",
    "\n",
    "  <center><img width=“500\" src = \"https://drive.google.com/uc?export=view&id=1j2EGBKoXKdI66mynmgdIYlRT2HWpdhrQ\"></center>\n"
   ]
  },
  {
   "cell_type": "markdown",
   "metadata": {
    "id": "nZ-OZd4aW9gV"
   },
   "source": [
    "---\n",
    "<font color=green>Optional questions:</font>\n",
    "<br><font color='green'>\n",
    "* Finetune the model after using the SMOTE oversampling method. \n",
    "* Try different supervised models to improve the results. \n",
    "</font>\n",
    "\n",
    "---\n"
   ]
  }
 ],
 "metadata": {
  "colab": {
   "collapsed_sections": [
    "RZzVq1HfynvM",
    "5g3WyCkt5qCK",
    "k5HEklJbE1sX",
    "G-ky4dPucJUH",
    "44-3sDdqWFdS",
    "vDFtR_RjGCkY",
    "v8HcghXHgkk3",
    "MRnlqR7f0_xM",
    "QgibaIZ2Z3hS",
    "cnZyF17Fqf-1",
    "yE0io5hzEIZg",
    "5BKVilJLgUDi",
    "b-zNPArGT0cN",
    "aOhuR142XmPA",
    "U67-gm73Tonn"
   ],
   "name": "Solution_Programming_Session.ipynb",
   "provenance": []
  },
  "kernelspec": {
   "display_name": "Python 3 (ipykernel)",
   "language": "python",
   "name": "python3"
  },
  "language_info": {
   "codemirror_mode": {
    "name": "ipython",
    "version": 3
   },
   "file_extension": ".py",
   "mimetype": "text/x-python",
   "name": "python",
   "nbconvert_exporter": "python",
   "pygments_lexer": "ipython3",
   "version": "3.11.4"
  }
 },
 "nbformat": 4,
 "nbformat_minor": 1
}
