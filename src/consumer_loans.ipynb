{
 "cells": [
  {
   "cell_type": "markdown",
   "metadata": {
    "id": "KTBxrTjcUvIk"
   },
   "source": [
    "# Outline \n",
    "\n",
    "- [Exploring the dataset](#Exploring-the-dataset)\n",
    "  - [Loading the dataset](#Loading-the-dataset)\n",
    "  - [Adding a new categorical feature](#Adding-a-new-categorical-feature)\n",
    "- [Visualization](#Visualization)\n",
    "  - [Count plot for a categorical variable](#Count-plot-for-a-categorical-variable)\n",
    "  - [Numerical variable distribution](#Numerical-variable-distribution)\n",
    "  - [Boxplots](#Boxplots)\n",
    "- [Preprocessing the data](#Preprocessing-the-data)\n",
    "  - [Preprocessing categorical variables](#Preprocessing-categorical-variables)\n",
    "  - [Preprocessing numerical variables](#Preprocessing-numerical-variables)\n"
   ]
  },
  {
   "cell_type": "markdown",
   "metadata": {
    "id": "RZzVq1HfynvM"
   },
   "source": [
    "### Loading the dataset"
   ]
  },
  {
   "cell_type": "code",
   "execution_count": 22,
   "metadata": {
    "id": "nvuOqwMk-sl-"
   },
   "outputs": [],
   "source": [
    "import pandas as pd\n",
    "import numpy as np\n",
    "import seaborn as sns\n",
    "import matplotlib.pyplot as plt\n",
    "import sklearn as skl \n",
    "plt.style.use(\"dark_background\")"
   ]
  },
  {
   "cell_type": "code",
   "execution_count": 23,
   "metadata": {
    "id": "x_Sb_nNVAbWo"
   },
   "outputs": [],
   "source": [
    "df = pd.read_csv(\"../data/credit_dataset.csv\", index_col=0)"
   ]
  },
  {
   "cell_type": "code",
   "execution_count": 24,
   "metadata": {
    "id": "9ETXFrXdAdN2"
   },
   "outputs": [
    {
     "data": {
      "text/html": [
       "<div>\n",
       "<style scoped>\n",
       "    .dataframe tbody tr th:only-of-type {\n",
       "        vertical-align: middle;\n",
       "    }\n",
       "\n",
       "    .dataframe tbody tr th {\n",
       "        vertical-align: top;\n",
       "    }\n",
       "\n",
       "    .dataframe thead th {\n",
       "        text-align: right;\n",
       "    }\n",
       "</style>\n",
       "<table border=\"1\" class=\"dataframe\">\n",
       "  <thead>\n",
       "    <tr style=\"text-align: right;\">\n",
       "      <th></th>\n",
       "      <th>person_age</th>\n",
       "      <th>person_income</th>\n",
       "      <th>person_home_ownership</th>\n",
       "      <th>person_emp_length</th>\n",
       "      <th>loan_intent</th>\n",
       "      <th>loan_grade</th>\n",
       "      <th>loan_amnt</th>\n",
       "      <th>loan_int_rate</th>\n",
       "      <th>loan_status</th>\n",
       "      <th>loan_percent_income</th>\n",
       "      <th>cb_person_default_on_file</th>\n",
       "      <th>cb_person_cred_hist_length</th>\n",
       "    </tr>\n",
       "  </thead>\n",
       "  <tbody>\n",
       "    <tr>\n",
       "      <th>0</th>\n",
       "      <td>25</td>\n",
       "      <td>138000</td>\n",
       "      <td>MORTGAGE</td>\n",
       "      <td>9.0</td>\n",
       "      <td>PERSONAL</td>\n",
       "      <td>A</td>\n",
       "      <td>8000</td>\n",
       "      <td>6.99</td>\n",
       "      <td>0</td>\n",
       "      <td>0.06</td>\n",
       "      <td>N</td>\n",
       "      <td>4</td>\n",
       "    </tr>\n",
       "    <tr>\n",
       "      <th>1</th>\n",
       "      <td>26</td>\n",
       "      <td>75000</td>\n",
       "      <td>MORTGAGE</td>\n",
       "      <td>7.0</td>\n",
       "      <td>VENTURE</td>\n",
       "      <td>A</td>\n",
       "      <td>10000</td>\n",
       "      <td>7.49</td>\n",
       "      <td>0</td>\n",
       "      <td>0.13</td>\n",
       "      <td>N</td>\n",
       "      <td>2</td>\n",
       "    </tr>\n",
       "    <tr>\n",
       "      <th>2</th>\n",
       "      <td>31</td>\n",
       "      <td>110000</td>\n",
       "      <td>MORTGAGE</td>\n",
       "      <td>2.0</td>\n",
       "      <td>MEDICAL</td>\n",
       "      <td>A</td>\n",
       "      <td>6000</td>\n",
       "      <td>7.40</td>\n",
       "      <td>0</td>\n",
       "      <td>0.05</td>\n",
       "      <td>N</td>\n",
       "      <td>6</td>\n",
       "    </tr>\n",
       "    <tr>\n",
       "      <th>3</th>\n",
       "      <td>21</td>\n",
       "      <td>37200</td>\n",
       "      <td>RENT</td>\n",
       "      <td>1.0</td>\n",
       "      <td>DEBTCONSOLIDATION</td>\n",
       "      <td>B</td>\n",
       "      <td>7000</td>\n",
       "      <td>10.99</td>\n",
       "      <td>0</td>\n",
       "      <td>0.19</td>\n",
       "      <td>N</td>\n",
       "      <td>3</td>\n",
       "    </tr>\n",
       "    <tr>\n",
       "      <th>4</th>\n",
       "      <td>28</td>\n",
       "      <td>144000</td>\n",
       "      <td>RENT</td>\n",
       "      <td>12.0</td>\n",
       "      <td>PERSONAL</td>\n",
       "      <td>B</td>\n",
       "      <td>10000</td>\n",
       "      <td>9.99</td>\n",
       "      <td>0</td>\n",
       "      <td>0.07</td>\n",
       "      <td>N</td>\n",
       "      <td>5</td>\n",
       "    </tr>\n",
       "  </tbody>\n",
       "</table>\n",
       "</div>"
      ],
      "text/plain": [
       "   person_age  person_income person_home_ownership  person_emp_length  \\\n",
       "0          25         138000              MORTGAGE                9.0   \n",
       "1          26          75000              MORTGAGE                7.0   \n",
       "2          31         110000              MORTGAGE                2.0   \n",
       "3          21          37200                  RENT                1.0   \n",
       "4          28         144000                  RENT               12.0   \n",
       "\n",
       "         loan_intent loan_grade  loan_amnt  loan_int_rate  loan_status  \\\n",
       "0           PERSONAL          A       8000           6.99            0   \n",
       "1            VENTURE          A      10000           7.49            0   \n",
       "2            MEDICAL          A       6000           7.40            0   \n",
       "3  DEBTCONSOLIDATION          B       7000          10.99            0   \n",
       "4           PERSONAL          B      10000           9.99            0   \n",
       "\n",
       "   loan_percent_income cb_person_default_on_file  cb_person_cred_hist_length  \n",
       "0                 0.06                         N                           4  \n",
       "1                 0.13                         N                           2  \n",
       "2                 0.05                         N                           6  \n",
       "3                 0.19                         N                           3  \n",
       "4                 0.07                         N                           5  "
      ]
     },
     "execution_count": 24,
     "metadata": {},
     "output_type": "execute_result"
    }
   ],
   "source": [
    "df = df.sample(frac=1).reset_index(drop=True) # randomly shuffle rows of the df\n",
    "df.head(5)"
   ]
  },
  {
   "cell_type": "code",
   "execution_count": 25,
   "metadata": {
    "colab": {
     "base_uri": "https://localhost:8080/"
    },
    "id": "tAgKRtqIAvce",
    "outputId": "682cd8a9-5f76-45ce-f828-df5dfebfa661"
   },
   "outputs": [
    {
     "name": "stdout",
     "output_type": "stream",
     "text": [
      "<class 'pandas.core.frame.DataFrame'>\n",
      "RangeIndex: 32581 entries, 0 to 32580\n",
      "Data columns (total 12 columns):\n",
      " #   Column                      Non-Null Count  Dtype  \n",
      "---  ------                      --------------  -----  \n",
      " 0   person_age                  32581 non-null  int64  \n",
      " 1   person_income               32581 non-null  int64  \n",
      " 2   person_home_ownership       32581 non-null  object \n",
      " 3   person_emp_length           32581 non-null  float64\n",
      " 4   loan_intent                 32581 non-null  object \n",
      " 5   loan_grade                  32581 non-null  object \n",
      " 6   loan_amnt                   32581 non-null  int64  \n",
      " 7   loan_int_rate               32581 non-null  float64\n",
      " 8   loan_status                 32581 non-null  int64  \n",
      " 9   loan_percent_income         32581 non-null  float64\n",
      " 10  cb_person_default_on_file   32581 non-null  object \n",
      " 11  cb_person_cred_hist_length  32581 non-null  int64  \n",
      "dtypes: float64(3), int64(5), object(4)\n",
      "memory usage: 3.0+ MB\n"
     ]
    }
   ],
   "source": [
    "# Check for amount of rows and for any missing values \n",
    "df.info()"
   ]
  },
  {
   "cell_type": "code",
   "execution_count": 26,
   "metadata": {
    "id": "qi9X_z6RBq51"
   },
   "outputs": [],
   "source": [
    "#create quickaccess list with categorical variables labels\n",
    "catvars = list(df.select_dtypes(include = 'object').columns)\n",
    "#create quickaccess list with numerical variables labels\n",
    "numvars = list(df.select_dtypes(exclude = 'object').columns)\n",
    "numvars.remove(\"loan_status\")"
   ]
  },
  {
   "cell_type": "code",
   "execution_count": 27,
   "metadata": {
    "id": "YKdkq6YKAxwN"
   },
   "outputs": [],
   "source": [
    "# Threshold, splitting 70% train, 30% testing\n",
    "threshold = 0.7*len(df)\n",
    "\n",
    "# Splitting the dataset\n",
    "df_train = df.loc[:threshold].reset_index(drop=True)\n",
    "df_test = df.loc[threshold:].reset_index(drop=True)"
   ]
  },
  {
   "cell_type": "code",
   "execution_count": 28,
   "metadata": {
    "colab": {
     "base_uri": "https://localhost:8080/"
    },
    "id": "5E0A3Ub7BjpL",
    "outputId": "84afd2b0-e21f-4c85-b4b2-0b3ec0d4f793"
   },
   "outputs": [
    {
     "name": "stdout",
     "output_type": "stream",
     "text": [
      "We have 22807 training samples\n",
      "We have 9774 testing samples\n"
     ]
    }
   ],
   "source": [
    "print(\"We have {} training samples\".format(len(df_train)))\n",
    "print(\"We have {} testing samples\".format(len(df_test)))"
   ]
  },
  {
   "cell_type": "markdown",
   "metadata": {
    "id": "5g3WyCkt5qCK"
   },
   "source": [
    "### 1.2 Adding a new categorical feature"
   ]
  },
  {
   "cell_type": "code",
   "execution_count": 29,
   "metadata": {
    "colab": {
     "base_uri": "https://localhost:8080/",
     "height": 424
    },
    "id": "h7yqtudHCKEN",
    "outputId": "96c2b711-85b8-4e26-b90a-472470d6cba6"
   },
   "outputs": [
    {
     "data": {
      "text/html": [
       "<div>\n",
       "<style scoped>\n",
       "    .dataframe tbody tr th:only-of-type {\n",
       "        vertical-align: middle;\n",
       "    }\n",
       "\n",
       "    .dataframe tbody tr th {\n",
       "        vertical-align: top;\n",
       "    }\n",
       "\n",
       "    .dataframe thead th {\n",
       "        text-align: right;\n",
       "    }\n",
       "</style>\n",
       "<table border=\"1\" class=\"dataframe\">\n",
       "  <thead>\n",
       "    <tr style=\"text-align: right;\">\n",
       "      <th></th>\n",
       "      <th>person_age</th>\n",
       "      <th>person_income</th>\n",
       "      <th>person_emp_length</th>\n",
       "      <th>loan_amnt</th>\n",
       "      <th>loan_int_rate</th>\n",
       "      <th>loan_percent_income</th>\n",
       "      <th>cb_person_cred_hist_length</th>\n",
       "    </tr>\n",
       "  </thead>\n",
       "  <tbody>\n",
       "    <tr>\n",
       "      <th>count</th>\n",
       "      <td>22807.000000</td>\n",
       "      <td>2.280700e+04</td>\n",
       "      <td>22807.000000</td>\n",
       "      <td>22807.000000</td>\n",
       "      <td>22807.000000</td>\n",
       "      <td>22807.000000</td>\n",
       "      <td>22807.000000</td>\n",
       "    </tr>\n",
       "    <tr>\n",
       "      <th>mean</th>\n",
       "      <td>27.734248</td>\n",
       "      <td>6.625363e+04</td>\n",
       "      <td>4.760644</td>\n",
       "      <td>9596.550401</td>\n",
       "      <td>11.024484</td>\n",
       "      <td>0.170108</td>\n",
       "      <td>5.808831</td>\n",
       "    </tr>\n",
       "    <tr>\n",
       "      <th>std</th>\n",
       "      <td>6.425295</td>\n",
       "      <td>6.495657e+04</td>\n",
       "      <td>4.130407</td>\n",
       "      <td>6310.876732</td>\n",
       "      <td>3.081945</td>\n",
       "      <td>0.106929</td>\n",
       "      <td>4.073044</td>\n",
       "    </tr>\n",
       "    <tr>\n",
       "      <th>min</th>\n",
       "      <td>20.000000</td>\n",
       "      <td>4.000000e+03</td>\n",
       "      <td>0.000000</td>\n",
       "      <td>500.000000</td>\n",
       "      <td>5.420000</td>\n",
       "      <td>0.000000</td>\n",
       "      <td>2.000000</td>\n",
       "    </tr>\n",
       "    <tr>\n",
       "      <th>25%</th>\n",
       "      <td>23.000000</td>\n",
       "      <td>3.900000e+04</td>\n",
       "      <td>2.000000</td>\n",
       "      <td>5000.000000</td>\n",
       "      <td>8.490000</td>\n",
       "      <td>0.090000</td>\n",
       "      <td>3.000000</td>\n",
       "    </tr>\n",
       "    <tr>\n",
       "      <th>50%</th>\n",
       "      <td>26.000000</td>\n",
       "      <td>5.520000e+04</td>\n",
       "      <td>4.000000</td>\n",
       "      <td>8000.000000</td>\n",
       "      <td>10.990000</td>\n",
       "      <td>0.150000</td>\n",
       "      <td>4.000000</td>\n",
       "    </tr>\n",
       "    <tr>\n",
       "      <th>75%</th>\n",
       "      <td>30.000000</td>\n",
       "      <td>8.000000e+04</td>\n",
       "      <td>7.000000</td>\n",
       "      <td>12250.000000</td>\n",
       "      <td>13.160000</td>\n",
       "      <td>0.230000</td>\n",
       "      <td>8.000000</td>\n",
       "    </tr>\n",
       "    <tr>\n",
       "      <th>max</th>\n",
       "      <td>144.000000</td>\n",
       "      <td>6.000000e+06</td>\n",
       "      <td>123.000000</td>\n",
       "      <td>35000.000000</td>\n",
       "      <td>23.220000</td>\n",
       "      <td>0.780000</td>\n",
       "      <td>30.000000</td>\n",
       "    </tr>\n",
       "  </tbody>\n",
       "</table>\n",
       "</div>"
      ],
      "text/plain": [
       "         person_age  person_income  person_emp_length     loan_amnt  \\\n",
       "count  22807.000000   2.280700e+04       22807.000000  22807.000000   \n",
       "mean      27.734248   6.625363e+04           4.760644   9596.550401   \n",
       "std        6.425295   6.495657e+04           4.130407   6310.876732   \n",
       "min       20.000000   4.000000e+03           0.000000    500.000000   \n",
       "25%       23.000000   3.900000e+04           2.000000   5000.000000   \n",
       "50%       26.000000   5.520000e+04           4.000000   8000.000000   \n",
       "75%       30.000000   8.000000e+04           7.000000  12250.000000   \n",
       "max      144.000000   6.000000e+06         123.000000  35000.000000   \n",
       "\n",
       "       loan_int_rate  loan_percent_income  cb_person_cred_hist_length  \n",
       "count   22807.000000         22807.000000                22807.000000  \n",
       "mean       11.024484             0.170108                    5.808831  \n",
       "std         3.081945             0.106929                    4.073044  \n",
       "min         5.420000             0.000000                    2.000000  \n",
       "25%         8.490000             0.090000                    3.000000  \n",
       "50%        10.990000             0.150000                    4.000000  \n",
       "75%        13.160000             0.230000                    8.000000  \n",
       "max        23.220000             0.780000                   30.000000  "
      ]
     },
     "execution_count": 29,
     "metadata": {},
     "output_type": "execute_result"
    }
   ],
   "source": [
    "# Describe numerical features of the training set\n",
    "df_train[numvars]\n",
    "df_train[numvars].describe()"
   ]
  },
  {
   "cell_type": "markdown",
   "metadata": {
    "id": "YqOwL6flKF1N"
   },
   "source": [
    "---\n",
    "Create a new categorical feature named `category_income` assigning a category 'A', 'B', 'C' and 'D' according to the feature `person_income` as follows:\n",
    "  * If `person_income` is in [0, 39000], then `category_income = 'D'`.\n",
    "  * If `person_income` is in [39000, 55000], then `category_income = 'C'`.\n",
    "  * If `person_income` is in [55000, 79000], then `category_income = 'B'`.\n",
    "  * If `person_income` is in [79000, +$\\infty$], then `category_income = 'A'`.\n",
    "---"
   ]
  },
  {
   "cell_type": "code",
   "execution_count": 30,
   "metadata": {
    "colab": {
     "base_uri": "https://localhost:8080/"
    },
    "id": "2ruJXcIkCRXt",
    "outputId": "9d3f2ec7-3d25-4bfd-bdb0-ad8fb99efb3c"
   },
   "outputs": [
    {
     "data": {
      "text/plain": [
       "count    2.280700e+04\n",
       "mean     6.625363e+04\n",
       "std      6.495657e+04\n",
       "min      4.000000e+03\n",
       "25%      3.900000e+04\n",
       "50%      5.520000e+04\n",
       "75%      8.000000e+04\n",
       "max      6.000000e+06\n",
       "Name: person_income, dtype: float64"
      ]
     },
     "execution_count": 30,
     "metadata": {},
     "output_type": "execute_result"
    }
   ],
   "source": [
    "df_train[\"person_income\"].describe()"
   ]
  },
  {
   "cell_type": "code",
   "execution_count": 31,
   "metadata": {
    "id": "aD89OAEECb8t"
   },
   "outputs": [],
   "source": [
    "# Income intervals\n",
    "intervals = (0, 39000, 55000, 79000, 6000000)\n",
    "# Categories\n",
    "categories = [\"D\", \"C\", \"B\", \"A\"]\n",
    "# Create the new feature\n",
    "df_train[\"category_income\"] = pd.cut(df_train.person_income, intervals, labels=categories)\n",
    "df_test[\"category_income\"] = pd.cut(df_test.person_income, intervals, labels=categories)\n",
    "# Add the new category `category_income` to the list of categorical variables\n",
    "catvars.append(\"category_income\")"
   ]
  },
  {
   "cell_type": "markdown",
   "metadata": {
    "id": "5o1pvnyjEBF3"
   },
   "source": [
    "# 2. Visualization"
   ]
  },
  {
   "cell_type": "code",
   "execution_count": 32,
   "metadata": {
    "colab": {
     "base_uri": "https://localhost:8080/"
    },
    "id": "23oo_z34SL1c",
    "outputId": "7c26a479-6716-4b82-d0e9-b8ad82e8cd4d"
   },
   "outputs": [
    {
     "data": {
      "text/plain": [
       "array(['MORTGAGE', 'RENT', 'OWN', 'OTHER'], dtype=object)"
      ]
     },
     "execution_count": 32,
     "metadata": {},
     "output_type": "execute_result"
    }
   ],
   "source": [
    "# The different values of person_home_ownsership\n",
    "df_train[\"person_home_ownership\"].unique()"
   ]
  },
  {
   "cell_type": "code",
   "execution_count": 33,
   "metadata": {
    "colab": {
     "base_uri": "https://localhost:8080/",
     "height": 459
    },
    "id": "mjwv_Tw39FNT",
    "outputId": "72f5356d-8301-4eef-9d25-021f14e17049"
   },
   "outputs": [
    {
     "data": {
      "image/png": "[encoded data removed]",
      "text/plain": [
       "<Figure size 1000x700 with 1 Axes>"
      ]
     },
     "metadata": {},
     "output_type": "display_data"
    }
   ],
   "source": [
    "fig = plt.figure(figsize=(10, 7))\n",
    "g = sns.countplot(x=\"person_home_ownership\", data=df_train, palette=\"hls\", hue=\"loan_status\")\n",
    "g.set_title(\"Count Plot for person_home_ownership represented in the training data\")\n",
    "plt.show()"
   ]
  },
  {
   "cell_type": "markdown",
   "metadata": {
    "id": "G-ky4dPucJUH"
   },
   "source": [
    "### 2.2 Numerical variable distribution"
   ]
  },
  {
   "cell_type": "markdown",
   "metadata": {
    "id": "q9mt9f_ydrAC"
   },
   "source": [
    "Plot a univariate distribution of a numerical variable associated to the \"0\" and \"1\" targets. "
   ]
  },
  {
   "cell_type": "code",
   "execution_count": 34,
   "metadata": {
    "colab": {
     "base_uri": "https://localhost:8080/",
     "height": 587
    },
    "id": "BraoDr6GcaYD",
    "outputId": "d5ef14dc-0aa6-40fc-89b7-5c00ba6da9ae"
   },
   "outputs": [
    {
     "data": {
      "text/plain": [
       "<Figure size 1400x700 with 0 Axes>"
      ]
     },
     "metadata": {},
     "output_type": "display_data"
    },
    {
     "data": {
      "image/png": "[encoded data removed]",
      "text/plain": [
       "<Figure size 1490.49x700 with 1 Axes>"
      ]
     },
     "metadata": {},
     "output_type": "display_data"
    }
   ],
   "source": [
    "plt.figure(figsize=(14, 7))\n",
    "\n",
    "sns.displot(data=df_train, x=\"person_income\", hue=\"loan_status\", kind=\"kde\", \n",
    "            fill=True, common_norm=False, palette=[\"g\", \"r\"], height=7, aspect=2)\n",
    "\n",
    "plt.xlabel(\"Person Income\")\n",
    "plt.xlim(0, 200000)\n",
    "plt.ylabel(\"Frequency\")\n",
    "plt.title(\"Person Income Distribution According to Loan Status\")\n",
    "plt.show()"
   ]
  },
  {
   "cell_type": "markdown",
   "metadata": {
    "id": "TkPcVyHni9p4"
   },
   "source": [
    "---\n",
    "\n",
    "We can see that the distribution of `person_income` associated the target '0' (No default) is shifted to the right, in comparison with the one associated with the target '1' (default).\n",
    "\n",
    "---"
   ]
  },
  {
   "cell_type": "markdown",
   "metadata": {
    "id": "44-3sDdqWFdS"
   },
   "source": [
    "### 2.3 Boxplots "
   ]
  },
  {
   "cell_type": "markdown",
   "metadata": {
    "id": "8m0lMx2jKSF1"
   },
   "source": [
    "---\n",
    "\n",
    "The distribution of the numerical feature `loan_amnt` according to the new categorical variable `category_income` and the targets `loan_status`. \n",
    "\n",
    "---"
   ]
  },
  {
   "cell_type": "code",
   "execution_count": 35,
   "metadata": {
    "colab": {
     "base_uri": "https://localhost:8080/",
     "height": 459
    },
    "id": "rhEdDWrz9FLI",
    "outputId": "65c19585-d0b2-430f-b051-9765d3e7e997"
   },
   "outputs": [
    {
     "data": {
      "image/png": "[encoded data removed]",
      "text/plain": [
       "<Figure size 1400x700 with 1 Axes>"
      ]
     },
     "metadata": {},
     "output_type": "display_data"
    }
   ],
   "source": [
    "fig = plt.figure(figsize=(14, 7))\n",
    "g = sns.boxplot(x=\"category_income\", y=\"loan_amnt\", data=df_train, palette=\"hls\",hue=\"loan_status\")\n",
    "g.set_title(\"Loan Amount by Loan Intent\")\n",
    "plt.show()"
   ]
  },
  {
   "cell_type": "markdown",
   "metadata": {
    "id": "vDFtR_RjGCkY"
   },
   "source": [
    "# 3. Preprocessing the data"
   ]
  },
  {
   "cell_type": "markdown",
   "metadata": {
    "id": "v8HcghXHgkk3"
   },
   "source": [
    "### 3.1. Preprocessing categorical variables "
   ]
  },
  {
   "cell_type": "markdown",
   "metadata": {
    "id": "Q9Ow6MljoSSY"
   },
   "source": [
    "* Let's suppose we have a categorical variable X that can take K different values $\\{1, \\dots, K\\}$\n",
    "\n",
    "* **One hot encoding** a category consists in transforming the category into a vector $\\in \\mathbb{R}^K$ where we have 1 in the position of the category and zeros elswhere. \n",
    "\n",
    "* For instance, if $K=4$, the category \"3\" for one sample is one hot encoded into the vector $[0, 0, 1, 0]$\n",
    "\n",
    "\n",
    "* Therefore, we can turn a catogorical feature into K features. \n",
    "\n",
    "* As each sample is only mapped to one category, the K features are not independent (the K-th feature can be deduced from the K-1 first features). Therefore, we usually drop one of the columns."
   ]
  },
  {
   "cell_type": "markdown",
   "metadata": {
    "id": "UIuGW1ApureQ"
   },
   "source": [
    "The categories:"
   ]
  },
  {
   "cell_type": "code",
   "execution_count": 36,
   "metadata": {
    "colab": {
     "base_uri": "https://localhost:8080/"
    },
    "id": "e1c01eqBghnq",
    "outputId": "25183f06-688d-4b0f-96ce-2e5c2afc47cd"
   },
   "outputs": [
    {
     "data": {
      "text/plain": [
       "['person_home_ownership',\n",
       " 'loan_intent',\n",
       " 'loan_grade',\n",
       " 'cb_person_default_on_file',\n",
       " 'category_income']"
      ]
     },
     "execution_count": 36,
     "metadata": {},
     "output_type": "execute_result"
    }
   ],
   "source": [
    "catvars"
   ]
  },
  {
   "cell_type": "code",
   "execution_count": 37,
   "metadata": {
    "colab": {
     "base_uri": "https://localhost:8080/"
    },
    "id": "_n4EbeNUtVgA",
    "outputId": "5def6b8d-6072-433d-b095-b3e1f090e14e"
   },
   "outputs": [
    {
     "name": "stdout",
     "output_type": "stream",
     "text": [
      "Feature: person_home_ownership ... Categories: ['MORTGAGE' 'RENT' 'OWN' 'OTHER']\n",
      "Feature: loan_intent ... Categories: ['PERSONAL' 'VENTURE' 'MEDICAL' 'DEBTCONSOLIDATION' 'EDUCATION'\n",
      " 'HOMEIMPROVEMENT']\n",
      "Feature: loan_grade ... Categories: ['A' 'B' 'C' 'D' 'E' 'F' 'G']\n",
      "Feature: cb_person_default_on_file ... Categories: ['N' 'Y']\n",
      "Feature: category_income ... Categories: ['A', 'B', 'D', 'C']\n",
      "Categories (4, object): ['D' < 'C' < 'B' < 'A']\n"
     ]
    }
   ],
   "source": [
    "for categorical_variable in catvars:\n",
    "  print(f\"Feature: {categorical_variable} ... Categories: {df_train[categorical_variable].unique()}\")"
   ]
  },
  {
   "cell_type": "markdown",
   "metadata": {
    "id": "ijzgiaUButpB"
   },
   "source": [
    "The number of categories:"
   ]
  },
  {
   "cell_type": "code",
   "execution_count": 38,
   "metadata": {
    "colab": {
     "base_uri": "https://localhost:8080/"
    },
    "id": "hY5V4AcfuPdw",
    "outputId": "c89192b0-ace3-4c42-f7a8-7a3c2280b2b2"
   },
   "outputs": [
    {
     "data": {
      "text/plain": [
       "person_home_ownership        4\n",
       "loan_intent                  6\n",
       "loan_grade                   7\n",
       "cb_person_default_on_file    2\n",
       "category_income              4\n",
       "dtype: int64"
      ]
     },
     "execution_count": 38,
     "metadata": {},
     "output_type": "execute_result"
    }
   ],
   "source": [
    "# For each categorical variable, the number of possible categories\n",
    "df_train[catvars].nunique()"
   ]
  },
  {
   "cell_type": "code",
   "execution_count": 39,
   "metadata": {
    "colab": {
     "base_uri": "https://localhost:8080/"
    },
    "id": "RZhYEX2vz9lZ",
    "outputId": "f74607f9-970f-4055-d620-942ee996decd"
   },
   "outputs": [
    {
     "data": {
      "text/plain": [
       "(22807, 13)"
      ]
     },
     "execution_count": 39,
     "metadata": {},
     "output_type": "execute_result"
    }
   ],
   "source": [
    "# 1 for target (loan_status)\n",
    "# 5 categorical variables\n",
    "# 7 numerical variables \n",
    "df_train.shape"
   ]
  },
  {
   "cell_type": "code",
   "execution_count": 40,
   "metadata": {
    "id": "1ToPF7IV9E-w"
   },
   "outputs": [
    {
     "name": "stderr",
     "output_type": "stream",
     "text": [
      "c:\\Users\\K$\\source\\repos\\consumer_loans\\.venv\\Lib\\site-packages\\sklearn\\preprocessing\\_encoders.py:975: FutureWarning: `sparse` was renamed to `sparse_output` in version 1.2 and will be removed in 1.4. `sparse_output` is ignored unless you leave `sparse` to its default value.\n",
      "  warnings.warn(\n"
     ]
    }
   ],
   "source": [
    "from sklearn.preprocessing import OneHotEncoder\n",
    "\n",
    "# Initialize the OneHotEncoder\n",
    "encoder = OneHotEncoder(sparse=False, drop='first')\n",
    "\n",
    "# Fit the encoder on the categorical columns of the training data and then use that fitted encoder to transform test data\n",
    "# Ensure consistency in how categorical variables are handled between training and test sets\n",
    "encoder.fit(df_train[catvars])\n",
    "\n",
    "encoded_data_train = encoder.transform(df_train[catvars])\n",
    "encoded_data_test = encoder.transform(df_test[catvars])\n",
    "\n",
    "# Create a DataFrame with the one-hot encoded data\n",
    "encoded_df_train = pd.DataFrame(encoded_data_train, columns=encoder.get_feature_names_out(catvars))\n",
    "encoded_df_test = pd.DataFrame(encoded_data_test, columns=encoder.get_feature_names_out(catvars))\n",
    "\n",
    "# Concatenate the one-hot encoded DataFrame with the original DataFrame\n",
    "df_train = pd.concat([df_train.drop(columns=catvars), encoded_df_train], axis=1)\n",
    "df_test = pd.concat([df_test.drop(columns=catvars), encoded_df_test], axis=1)\n"
   ]
  },
  {
   "cell_type": "code",
   "execution_count": 41,
   "metadata": {},
   "outputs": [
    {
     "data": {
      "text/plain": [
       "(22807, 26)"
      ]
     },
     "execution_count": 41,
     "metadata": {},
     "output_type": "execute_result"
    }
   ],
   "source": [
    "# check shape of the modified train data\n",
    "df_train.shape"
   ]
  },
  {
   "cell_type": "markdown",
   "metadata": {},
   "source": [
    "---\n",
    "* Number of Dummy variables: 18.\n",
    "  * person_home_ownership     ---->   4 possible values ----> 3 Dummy variables \n",
    "  * loan_intent               ---->   6 possible values ----> 5 Dummy variables\n",
    "  * loan_grade                ---->   7 possible values ----> 6 Dummy variables\n",
    "  * cb_person_default_on_file ---->   2 possible values ----> 1 Dummy variable\n",
    "  * category_income           ---->   4 possible values ----> 3 Dummy variables\n",
    "\n",
    "* Number of Numerical variables: 7. \n",
    "\n",
    "* One column for the target `loan_status`. \n",
    "\n",
    "* Total number of columns: 26 \n",
    "\n",
    "* Recall that one category for each categorical variable is dropped to avoid multicollinearity \n",
    "---"
   ]
  },
  {
   "cell_type": "markdown",
   "metadata": {},
   "source": [
    "### 3.2 Preprocessing Numerical Variables"
   ]
  },
  {
   "cell_type": "code",
   "execution_count": 42,
   "metadata": {},
   "outputs": [],
   "source": [
    "df_train_targets = df_train['loan_status']\n",
    "df_train_features = df_train.drop('loan_status', axis=1)\n",
    "\n",
    "df_test_targets = df_test['loan_status']\n",
    "df_test_features = df_test.drop('loan_status', axis=1)"
   ]
  },
  {
   "cell_type": "code",
   "execution_count": 43,
   "metadata": {},
   "outputs": [],
   "source": [
    "# df_train_features_numvars and df_test_features_numvars containing the training and testing numerical features\n",
    "# df_train_features_rest and df_train_features_rest containing the rest of the features.\n",
    "df_train_features_numvars = df_train_features[numvars]\n",
    "df_train_features_rest = df_train_features[df_train_features.columns[~df_train_features.columns.isin(numvars)]]\n",
    "\n",
    "\n",
    "df_test_features_numvars = df_test_features[numvars]\n",
    "df_test_features_rest = df_test_features[df_test_features.columns[~df_test_features.columns.isin(numvars)]]"
   ]
  }
 ],
 "metadata": {
  "colab": {
   "collapsed_sections": [
    "RZzVq1HfynvM",
    "5g3WyCkt5qCK",
    "k5HEklJbE1sX",
    "G-ky4dPucJUH",
    "44-3sDdqWFdS",
    "vDFtR_RjGCkY",
    "v8HcghXHgkk3",
    "MRnlqR7f0_xM",
    "QgibaIZ2Z3hS",
    "cnZyF17Fqf-1",
    "yE0io5hzEIZg",
    "5BKVilJLgUDi",
    "b-zNPArGT0cN",
    "aOhuR142XmPA",
    "U67-gm73Tonn"
   ],
   "name": "Solution_Programming_Session.ipynb",
   "provenance": []
  },
  "kernelspec": {
   "display_name": "Python 3 (ipykernel)",
   "language": "python",
   "name": "python3"
  },
  "language_info": {
   "codemirror_mode": {
    "name": "ipython",
    "version": 3
   },
   "file_extension": ".py",
   "mimetype": "text/x-python",
   "name": "python",
   "nbconvert_exporter": "python",
   "pygments_lexer": "ipython3",
   "version": "3.11.4"
  }
 },
 "nbformat": 4,
 "nbformat_minor": 1
}
